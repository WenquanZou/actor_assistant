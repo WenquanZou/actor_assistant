{
  "nbformat": 4,
  "nbformat_minor": 0,
  "metadata": {
    "colab": {
      "name": "demo_BERT.ipynb",
      "provenance": [],
      "toc_visible": true,
      "machine_shape": "hm",
      "include_colab_link": true
    },
    "kernelspec": {
      "display_name": "Python 3",
      "language": "python",
      "name": "python3"
    },
    "accelerator": "GPU",
    "widgets": {
      "application/vnd.jupyter.widget-state+json": {
        "ed89ce8db3cf43ea97d20b2744b8bbcc": {
          "model_module": "@jupyter-widgets/controls",
          "model_name": "HBoxModel",
          "state": {
            "_view_name": "HBoxView",
            "_dom_classes": [],
            "_model_name": "HBoxModel",
            "_view_module": "@jupyter-widgets/controls",
            "_model_module_version": "1.5.0",
            "_view_count": null,
            "_view_module_version": "1.5.0",
            "box_style": "",
            "layout": "IPY_MODEL_321c58ac65d944168cee98c1f493e4ca",
            "_model_module": "@jupyter-widgets/controls",
            "children": [
              "IPY_MODEL_1c7526a8adde4691a585ffc0f5024a62",
              "IPY_MODEL_7a7cb0b50d3d4102a6d969343dcf92ac"
            ]
          }
        },
        "321c58ac65d944168cee98c1f493e4ca": {
          "model_module": "@jupyter-widgets/base",
          "model_name": "LayoutModel",
          "state": {
            "_view_name": "LayoutView",
            "grid_template_rows": null,
            "right": null,
            "justify_content": null,
            "_view_module": "@jupyter-widgets/base",
            "overflow": null,
            "_model_module_version": "1.2.0",
            "_view_count": null,
            "flex_flow": null,
            "width": null,
            "min_width": null,
            "border": null,
            "align_items": null,
            "bottom": null,
            "_model_module": "@jupyter-widgets/base",
            "top": null,
            "grid_column": null,
            "overflow_y": null,
            "overflow_x": null,
            "grid_auto_flow": null,
            "grid_area": null,
            "grid_template_columns": null,
            "flex": null,
            "_model_name": "LayoutModel",
            "justify_items": null,
            "grid_row": null,
            "max_height": null,
            "align_content": null,
            "visibility": null,
            "align_self": null,
            "height": null,
            "min_height": null,
            "padding": null,
            "grid_auto_rows": null,
            "grid_gap": null,
            "max_width": null,
            "order": null,
            "_view_module_version": "1.2.0",
            "grid_template_areas": null,
            "object_position": null,
            "object_fit": null,
            "grid_auto_columns": null,
            "margin": null,
            "display": null,
            "left": null
          }
        },
        "1c7526a8adde4691a585ffc0f5024a62": {
          "model_module": "@jupyter-widgets/controls",
          "model_name": "FloatProgressModel",
          "state": {
            "_view_name": "ProgressView",
            "style": "IPY_MODEL_adf2442111f9441793435f97cc51166d",
            "_dom_classes": [],
            "description": "Downloading: 100%",
            "_model_name": "FloatProgressModel",
            "bar_style": "success",
            "max": 213450,
            "_view_module": "@jupyter-widgets/controls",
            "_model_module_version": "1.5.0",
            "value": 213450,
            "_view_count": null,
            "_view_module_version": "1.5.0",
            "orientation": "horizontal",
            "min": 0,
            "description_tooltip": null,
            "_model_module": "@jupyter-widgets/controls",
            "layout": "IPY_MODEL_fc6fdc6139b442fcad2ad031ce3f9392"
          }
        },
        "7a7cb0b50d3d4102a6d969343dcf92ac": {
          "model_module": "@jupyter-widgets/controls",
          "model_name": "HTMLModel",
          "state": {
            "_view_name": "HTMLView",
            "style": "IPY_MODEL_db5e82bace6c4e6d9c27d368ed5ab680",
            "_dom_classes": [],
            "description": "",
            "_model_name": "HTMLModel",
            "placeholder": "​",
            "_view_module": "@jupyter-widgets/controls",
            "_model_module_version": "1.5.0",
            "value": " 213k/213k [00:00&lt;00:00, 1.02MB/s]",
            "_view_count": null,
            "_view_module_version": "1.5.0",
            "description_tooltip": null,
            "_model_module": "@jupyter-widgets/controls",
            "layout": "IPY_MODEL_bde38e5fabd04bd09eb6749d15c8bcc8"
          }
        },
        "adf2442111f9441793435f97cc51166d": {
          "model_module": "@jupyter-widgets/controls",
          "model_name": "ProgressStyleModel",
          "state": {
            "_view_name": "StyleView",
            "_model_name": "ProgressStyleModel",
            "description_width": "initial",
            "_view_module": "@jupyter-widgets/base",
            "_model_module_version": "1.5.0",
            "_view_count": null,
            "_view_module_version": "1.2.0",
            "bar_color": null,
            "_model_module": "@jupyter-widgets/controls"
          }
        },
        "fc6fdc6139b442fcad2ad031ce3f9392": {
          "model_module": "@jupyter-widgets/base",
          "model_name": "LayoutModel",
          "state": {
            "_view_name": "LayoutView",
            "grid_template_rows": null,
            "right": null,
            "justify_content": null,
            "_view_module": "@jupyter-widgets/base",
            "overflow": null,
            "_model_module_version": "1.2.0",
            "_view_count": null,
            "flex_flow": null,
            "width": null,
            "min_width": null,
            "border": null,
            "align_items": null,
            "bottom": null,
            "_model_module": "@jupyter-widgets/base",
            "top": null,
            "grid_column": null,
            "overflow_y": null,
            "overflow_x": null,
            "grid_auto_flow": null,
            "grid_area": null,
            "grid_template_columns": null,
            "flex": null,
            "_model_name": "LayoutModel",
            "justify_items": null,
            "grid_row": null,
            "max_height": null,
            "align_content": null,
            "visibility": null,
            "align_self": null,
            "height": null,
            "min_height": null,
            "padding": null,
            "grid_auto_rows": null,
            "grid_gap": null,
            "max_width": null,
            "order": null,
            "_view_module_version": "1.2.0",
            "grid_template_areas": null,
            "object_position": null,
            "object_fit": null,
            "grid_auto_columns": null,
            "margin": null,
            "display": null,
            "left": null
          }
        },
        "db5e82bace6c4e6d9c27d368ed5ab680": {
          "model_module": "@jupyter-widgets/controls",
          "model_name": "DescriptionStyleModel",
          "state": {
            "_view_name": "StyleView",
            "_model_name": "DescriptionStyleModel",
            "description_width": "",
            "_view_module": "@jupyter-widgets/base",
            "_model_module_version": "1.5.0",
            "_view_count": null,
            "_view_module_version": "1.2.0",
            "_model_module": "@jupyter-widgets/controls"
          }
        },
        "bde38e5fabd04bd09eb6749d15c8bcc8": {
          "model_module": "@jupyter-widgets/base",
          "model_name": "LayoutModel",
          "state": {
            "_view_name": "LayoutView",
            "grid_template_rows": null,
            "right": null,
            "justify_content": null,
            "_view_module": "@jupyter-widgets/base",
            "overflow": null,
            "_model_module_version": "1.2.0",
            "_view_count": null,
            "flex_flow": null,
            "width": null,
            "min_width": null,
            "border": null,
            "align_items": null,
            "bottom": null,
            "_model_module": "@jupyter-widgets/base",
            "top": null,
            "grid_column": null,
            "overflow_y": null,
            "overflow_x": null,
            "grid_auto_flow": null,
            "grid_area": null,
            "grid_template_columns": null,
            "flex": null,
            "_model_name": "LayoutModel",
            "justify_items": null,
            "grid_row": null,
            "max_height": null,
            "align_content": null,
            "visibility": null,
            "align_self": null,
            "height": null,
            "min_height": null,
            "padding": null,
            "grid_auto_rows": null,
            "grid_gap": null,
            "max_width": null,
            "order": null,
            "_view_module_version": "1.2.0",
            "grid_template_areas": null,
            "object_position": null,
            "object_fit": null,
            "grid_auto_columns": null,
            "margin": null,
            "display": null,
            "left": null
          }
        },
        "35480cfe6e9a46bfaafdf86f620f45e0": {
          "model_module": "@jupyter-widgets/controls",
          "model_name": "HBoxModel",
          "state": {
            "_view_name": "HBoxView",
            "_dom_classes": [],
            "_model_name": "HBoxModel",
            "_view_module": "@jupyter-widgets/controls",
            "_model_module_version": "1.5.0",
            "_view_count": null,
            "_view_module_version": "1.5.0",
            "box_style": "",
            "layout": "IPY_MODEL_3032b5cbe3a843bc97b833fb5fd6b534",
            "_model_module": "@jupyter-widgets/controls",
            "children": [
              "IPY_MODEL_1f442155c1ae4721b717a96c3f7ea140",
              "IPY_MODEL_ec6d295c2f684983a70156d795da88a4"
            ]
          }
        },
        "3032b5cbe3a843bc97b833fb5fd6b534": {
          "model_module": "@jupyter-widgets/base",
          "model_name": "LayoutModel",
          "state": {
            "_view_name": "LayoutView",
            "grid_template_rows": null,
            "right": null,
            "justify_content": null,
            "_view_module": "@jupyter-widgets/base",
            "overflow": null,
            "_model_module_version": "1.2.0",
            "_view_count": null,
            "flex_flow": null,
            "width": null,
            "min_width": null,
            "border": null,
            "align_items": null,
            "bottom": null,
            "_model_module": "@jupyter-widgets/base",
            "top": null,
            "grid_column": null,
            "overflow_y": null,
            "overflow_x": null,
            "grid_auto_flow": null,
            "grid_area": null,
            "grid_template_columns": null,
            "flex": null,
            "_model_name": "LayoutModel",
            "justify_items": null,
            "grid_row": null,
            "max_height": null,
            "align_content": null,
            "visibility": null,
            "align_self": null,
            "height": null,
            "min_height": null,
            "padding": null,
            "grid_auto_rows": null,
            "grid_gap": null,
            "max_width": null,
            "order": null,
            "_view_module_version": "1.2.0",
            "grid_template_areas": null,
            "object_position": null,
            "object_fit": null,
            "grid_auto_columns": null,
            "margin": null,
            "display": null,
            "left": null
          }
        },
        "1f442155c1ae4721b717a96c3f7ea140": {
          "model_module": "@jupyter-widgets/controls",
          "model_name": "FloatProgressModel",
          "state": {
            "_view_name": "ProgressView",
            "style": "IPY_MODEL_e6468db04adf4f748219ece09b3d9afd",
            "_dom_classes": [],
            "description": "Downloading: 100%",
            "_model_name": "FloatProgressModel",
            "bar_style": "success",
            "max": 433,
            "_view_module": "@jupyter-widgets/controls",
            "_model_module_version": "1.5.0",
            "value": 433,
            "_view_count": null,
            "_view_module_version": "1.5.0",
            "orientation": "horizontal",
            "min": 0,
            "description_tooltip": null,
            "_model_module": "@jupyter-widgets/controls",
            "layout": "IPY_MODEL_abf9987d850243d589f41ff93c2f7f19"
          }
        },
        "ec6d295c2f684983a70156d795da88a4": {
          "model_module": "@jupyter-widgets/controls",
          "model_name": "HTMLModel",
          "state": {
            "_view_name": "HTMLView",
            "style": "IPY_MODEL_241d12138ce34d5a87e7af78ec7bfcc1",
            "_dom_classes": [],
            "description": "",
            "_model_name": "HTMLModel",
            "placeholder": "​",
            "_view_module": "@jupyter-widgets/controls",
            "_model_module_version": "1.5.0",
            "value": " 433/433 [00:12&lt;00:00, 35.9B/s]",
            "_view_count": null,
            "_view_module_version": "1.5.0",
            "description_tooltip": null,
            "_model_module": "@jupyter-widgets/controls",
            "layout": "IPY_MODEL_7e073c1a17f4494cabe99d0188e54938"
          }
        },
        "e6468db04adf4f748219ece09b3d9afd": {
          "model_module": "@jupyter-widgets/controls",
          "model_name": "ProgressStyleModel",
          "state": {
            "_view_name": "StyleView",
            "_model_name": "ProgressStyleModel",
            "description_width": "initial",
            "_view_module": "@jupyter-widgets/base",
            "_model_module_version": "1.5.0",
            "_view_count": null,
            "_view_module_version": "1.2.0",
            "bar_color": null,
            "_model_module": "@jupyter-widgets/controls"
          }
        },
        "abf9987d850243d589f41ff93c2f7f19": {
          "model_module": "@jupyter-widgets/base",
          "model_name": "LayoutModel",
          "state": {
            "_view_name": "LayoutView",
            "grid_template_rows": null,
            "right": null,
            "justify_content": null,
            "_view_module": "@jupyter-widgets/base",
            "overflow": null,
            "_model_module_version": "1.2.0",
            "_view_count": null,
            "flex_flow": null,
            "width": null,
            "min_width": null,
            "border": null,
            "align_items": null,
            "bottom": null,
            "_model_module": "@jupyter-widgets/base",
            "top": null,
            "grid_column": null,
            "overflow_y": null,
            "overflow_x": null,
            "grid_auto_flow": null,
            "grid_area": null,
            "grid_template_columns": null,
            "flex": null,
            "_model_name": "LayoutModel",
            "justify_items": null,
            "grid_row": null,
            "max_height": null,
            "align_content": null,
            "visibility": null,
            "align_self": null,
            "height": null,
            "min_height": null,
            "padding": null,
            "grid_auto_rows": null,
            "grid_gap": null,
            "max_width": null,
            "order": null,
            "_view_module_version": "1.2.0",
            "grid_template_areas": null,
            "object_position": null,
            "object_fit": null,
            "grid_auto_columns": null,
            "margin": null,
            "display": null,
            "left": null
          }
        },
        "241d12138ce34d5a87e7af78ec7bfcc1": {
          "model_module": "@jupyter-widgets/controls",
          "model_name": "DescriptionStyleModel",
          "state": {
            "_view_name": "StyleView",
            "_model_name": "DescriptionStyleModel",
            "description_width": "",
            "_view_module": "@jupyter-widgets/base",
            "_model_module_version": "1.5.0",
            "_view_count": null,
            "_view_module_version": "1.2.0",
            "_model_module": "@jupyter-widgets/controls"
          }
        },
        "7e073c1a17f4494cabe99d0188e54938": {
          "model_module": "@jupyter-widgets/base",
          "model_name": "LayoutModel",
          "state": {
            "_view_name": "LayoutView",
            "grid_template_rows": null,
            "right": null,
            "justify_content": null,
            "_view_module": "@jupyter-widgets/base",
            "overflow": null,
            "_model_module_version": "1.2.0",
            "_view_count": null,
            "flex_flow": null,
            "width": null,
            "min_width": null,
            "border": null,
            "align_items": null,
            "bottom": null,
            "_model_module": "@jupyter-widgets/base",
            "top": null,
            "grid_column": null,
            "overflow_y": null,
            "overflow_x": null,
            "grid_auto_flow": null,
            "grid_area": null,
            "grid_template_columns": null,
            "flex": null,
            "_model_name": "LayoutModel",
            "justify_items": null,
            "grid_row": null,
            "max_height": null,
            "align_content": null,
            "visibility": null,
            "align_self": null,
            "height": null,
            "min_height": null,
            "padding": null,
            "grid_auto_rows": null,
            "grid_gap": null,
            "max_width": null,
            "order": null,
            "_view_module_version": "1.2.0",
            "grid_template_areas": null,
            "object_position": null,
            "object_fit": null,
            "grid_auto_columns": null,
            "margin": null,
            "display": null,
            "left": null
          }
        },
        "1529b658138e4baeb3999b6d69e3831e": {
          "model_module": "@jupyter-widgets/controls",
          "model_name": "HBoxModel",
          "state": {
            "_view_name": "HBoxView",
            "_dom_classes": [],
            "_model_name": "HBoxModel",
            "_view_module": "@jupyter-widgets/controls",
            "_model_module_version": "1.5.0",
            "_view_count": null,
            "_view_module_version": "1.5.0",
            "box_style": "",
            "layout": "IPY_MODEL_61db1f3ee753492a872144a6081d8838",
            "_model_module": "@jupyter-widgets/controls",
            "children": [
              "IPY_MODEL_0708d9a2819e408a89931af1761d1007",
              "IPY_MODEL_2f7faa38fb9d45e09329b4565b287b4c"
            ]
          }
        },
        "61db1f3ee753492a872144a6081d8838": {
          "model_module": "@jupyter-widgets/base",
          "model_name": "LayoutModel",
          "state": {
            "_view_name": "LayoutView",
            "grid_template_rows": null,
            "right": null,
            "justify_content": null,
            "_view_module": "@jupyter-widgets/base",
            "overflow": null,
            "_model_module_version": "1.2.0",
            "_view_count": null,
            "flex_flow": null,
            "width": null,
            "min_width": null,
            "border": null,
            "align_items": null,
            "bottom": null,
            "_model_module": "@jupyter-widgets/base",
            "top": null,
            "grid_column": null,
            "overflow_y": null,
            "overflow_x": null,
            "grid_auto_flow": null,
            "grid_area": null,
            "grid_template_columns": null,
            "flex": null,
            "_model_name": "LayoutModel",
            "justify_items": null,
            "grid_row": null,
            "max_height": null,
            "align_content": null,
            "visibility": null,
            "align_self": null,
            "height": null,
            "min_height": null,
            "padding": null,
            "grid_auto_rows": null,
            "grid_gap": null,
            "max_width": null,
            "order": null,
            "_view_module_version": "1.2.0",
            "grid_template_areas": null,
            "object_position": null,
            "object_fit": null,
            "grid_auto_columns": null,
            "margin": null,
            "display": null,
            "left": null
          }
        },
        "0708d9a2819e408a89931af1761d1007": {
          "model_module": "@jupyter-widgets/controls",
          "model_name": "FloatProgressModel",
          "state": {
            "_view_name": "ProgressView",
            "style": "IPY_MODEL_bafecfe089904e799abb3f4bfe47f638",
            "_dom_classes": [],
            "description": "Downloading: 100%",
            "_model_name": "FloatProgressModel",
            "bar_style": "success",
            "max": 435779157,
            "_view_module": "@jupyter-widgets/controls",
            "_model_module_version": "1.5.0",
            "value": 435779157,
            "_view_count": null,
            "_view_module_version": "1.5.0",
            "orientation": "horizontal",
            "min": 0,
            "description_tooltip": null,
            "_model_module": "@jupyter-widgets/controls",
            "layout": "IPY_MODEL_85d2c556c7714658ad528a440d964ff8"
          }
        },
        "2f7faa38fb9d45e09329b4565b287b4c": {
          "model_module": "@jupyter-widgets/controls",
          "model_name": "HTMLModel",
          "state": {
            "_view_name": "HTMLView",
            "style": "IPY_MODEL_858f84161da14ecd89cecba1bae7c493",
            "_dom_classes": [],
            "description": "",
            "_model_name": "HTMLModel",
            "placeholder": "​",
            "_view_module": "@jupyter-widgets/controls",
            "_model_module_version": "1.5.0",
            "value": " 436M/436M [00:11&lt;00:00, 39.3MB/s]",
            "_view_count": null,
            "_view_module_version": "1.5.0",
            "description_tooltip": null,
            "_model_module": "@jupyter-widgets/controls",
            "layout": "IPY_MODEL_bc8b948a9ef6405b82a70e4fae613809"
          }
        },
        "bafecfe089904e799abb3f4bfe47f638": {
          "model_module": "@jupyter-widgets/controls",
          "model_name": "ProgressStyleModel",
          "state": {
            "_view_name": "StyleView",
            "_model_name": "ProgressStyleModel",
            "description_width": "initial",
            "_view_module": "@jupyter-widgets/base",
            "_model_module_version": "1.5.0",
            "_view_count": null,
            "_view_module_version": "1.2.0",
            "bar_color": null,
            "_model_module": "@jupyter-widgets/controls"
          }
        },
        "85d2c556c7714658ad528a440d964ff8": {
          "model_module": "@jupyter-widgets/base",
          "model_name": "LayoutModel",
          "state": {
            "_view_name": "LayoutView",
            "grid_template_rows": null,
            "right": null,
            "justify_content": null,
            "_view_module": "@jupyter-widgets/base",
            "overflow": null,
            "_model_module_version": "1.2.0",
            "_view_count": null,
            "flex_flow": null,
            "width": null,
            "min_width": null,
            "border": null,
            "align_items": null,
            "bottom": null,
            "_model_module": "@jupyter-widgets/base",
            "top": null,
            "grid_column": null,
            "overflow_y": null,
            "overflow_x": null,
            "grid_auto_flow": null,
            "grid_area": null,
            "grid_template_columns": null,
            "flex": null,
            "_model_name": "LayoutModel",
            "justify_items": null,
            "grid_row": null,
            "max_height": null,
            "align_content": null,
            "visibility": null,
            "align_self": null,
            "height": null,
            "min_height": null,
            "padding": null,
            "grid_auto_rows": null,
            "grid_gap": null,
            "max_width": null,
            "order": null,
            "_view_module_version": "1.2.0",
            "grid_template_areas": null,
            "object_position": null,
            "object_fit": null,
            "grid_auto_columns": null,
            "margin": null,
            "display": null,
            "left": null
          }
        },
        "858f84161da14ecd89cecba1bae7c493": {
          "model_module": "@jupyter-widgets/controls",
          "model_name": "DescriptionStyleModel",
          "state": {
            "_view_name": "StyleView",
            "_model_name": "DescriptionStyleModel",
            "description_width": "",
            "_view_module": "@jupyter-widgets/base",
            "_model_module_version": "1.5.0",
            "_view_count": null,
            "_view_module_version": "1.2.0",
            "_model_module": "@jupyter-widgets/controls"
          }
        },
        "bc8b948a9ef6405b82a70e4fae613809": {
          "model_module": "@jupyter-widgets/base",
          "model_name": "LayoutModel",
          "state": {
            "_view_name": "LayoutView",
            "grid_template_rows": null,
            "right": null,
            "justify_content": null,
            "_view_module": "@jupyter-widgets/base",
            "overflow": null,
            "_model_module_version": "1.2.0",
            "_view_count": null,
            "flex_flow": null,
            "width": null,
            "min_width": null,
            "border": null,
            "align_items": null,
            "bottom": null,
            "_model_module": "@jupyter-widgets/base",
            "top": null,
            "grid_column": null,
            "overflow_y": null,
            "overflow_x": null,
            "grid_auto_flow": null,
            "grid_area": null,
            "grid_template_columns": null,
            "flex": null,
            "_model_name": "LayoutModel",
            "justify_items": null,
            "grid_row": null,
            "max_height": null,
            "align_content": null,
            "visibility": null,
            "align_self": null,
            "height": null,
            "min_height": null,
            "padding": null,
            "grid_auto_rows": null,
            "grid_gap": null,
            "max_width": null,
            "order": null,
            "_view_module_version": "1.2.0",
            "grid_template_areas": null,
            "object_position": null,
            "object_fit": null,
            "grid_auto_columns": null,
            "margin": null,
            "display": null,
            "left": null
          }
        }
      }
    }
  },
  "cells": [
    {
      "cell_type": "markdown",
      "metadata": {
        "id": "view-in-github",
        "colab_type": "text"
      },
      "source": [
        "<a href=\"https://colab.research.google.com/github/WenquanZou/actor_assistant/blob/master/training_process.ipynb\" target=\"_parent\"><img src=\"https://colab.research.google.com/assets/colab-badge.svg\" alt=\"Open In Colab\"/></a>"
      ]
    },
    {
      "cell_type": "markdown",
      "metadata": {
        "colab_type": "text",
        "id": "tJB2B8bUav2F"
      },
      "source": [
        "# 1.Preliminary work\n"
      ]
    },
    {
      "cell_type": "markdown",
      "metadata": {
        "id": "nsWXvY8go0iQ",
        "colab_type": "text"
      },
      "source": [
        "## 1.1 Installation"
      ]
    },
    {
      "cell_type": "code",
      "metadata": {
        "colab_type": "code",
        "id": "KCqM6ypNjctp",
        "pycharm": {
          "is_executing": true
        },
        "colab": {
          "base_uri": "https://localhost:8080/",
          "height": 1000
        },
        "outputId": "d03c2a7e-5cad-4ac4-a8de-31d1e7d97a35"
      },
      "source": [
        "!pip install transformers\n",
        "!pip install pytorch-model-summary\n",
        "!wget https://raw.githubusercontent.com/WenquanZou/actor_assistant/master/data.csv\n",
        "!wget https://raw.githubusercontent.com/WenquanZou/actor_assistant/master/transitive_verbs.txt"
      ],
      "execution_count": null,
      "outputs": [
        {
          "output_type": "stream",
          "text": [
            "Collecting transformers\n",
            "\u001b[?25l  Downloading https://files.pythonhosted.org/packages/48/35/ad2c5b1b8f99feaaf9d7cdadaeef261f098c6e1a6a2935d4d07662a6b780/transformers-2.11.0-py3-none-any.whl (674kB)\n",
            "\r\u001b[K     |▌                               | 10kB 24.9MB/s eta 0:00:01\r\u001b[K     |█                               | 20kB 5.9MB/s eta 0:00:01\r\u001b[K     |█▌                              | 30kB 7.4MB/s eta 0:00:01\r\u001b[K     |██                              | 40kB 7.6MB/s eta 0:00:01\r\u001b[K     |██▍                             | 51kB 6.5MB/s eta 0:00:01\r\u001b[K     |███                             | 61kB 7.2MB/s eta 0:00:01\r\u001b[K     |███▍                            | 71kB 7.6MB/s eta 0:00:01\r\u001b[K     |███▉                            | 81kB 8.1MB/s eta 0:00:01\r\u001b[K     |████▍                           | 92kB 7.7MB/s eta 0:00:01\r\u001b[K     |████▉                           | 102kB 8.0MB/s eta 0:00:01\r\u001b[K     |█████▍                          | 112kB 8.0MB/s eta 0:00:01\r\u001b[K     |█████▉                          | 122kB 8.0MB/s eta 0:00:01\r\u001b[K     |██████▎                         | 133kB 8.0MB/s eta 0:00:01\r\u001b[K     |██████▉                         | 143kB 8.0MB/s eta 0:00:01\r\u001b[K     |███████▎                        | 153kB 8.0MB/s eta 0:00:01\r\u001b[K     |███████▊                        | 163kB 8.0MB/s eta 0:00:01\r\u001b[K     |████████▎                       | 174kB 8.0MB/s eta 0:00:01\r\u001b[K     |████████▊                       | 184kB 8.0MB/s eta 0:00:01\r\u001b[K     |█████████▎                      | 194kB 8.0MB/s eta 0:00:01\r\u001b[K     |█████████▊                      | 204kB 8.0MB/s eta 0:00:01\r\u001b[K     |██████████▏                     | 215kB 8.0MB/s eta 0:00:01\r\u001b[K     |██████████▊                     | 225kB 8.0MB/s eta 0:00:01\r\u001b[K     |███████████▏                    | 235kB 8.0MB/s eta 0:00:01\r\u001b[K     |███████████▋                    | 245kB 8.0MB/s eta 0:00:01\r\u001b[K     |████████████▏                   | 256kB 8.0MB/s eta 0:00:01\r\u001b[K     |████████████▋                   | 266kB 8.0MB/s eta 0:00:01\r\u001b[K     |█████████████                   | 276kB 8.0MB/s eta 0:00:01\r\u001b[K     |█████████████▋                  | 286kB 8.0MB/s eta 0:00:01\r\u001b[K     |██████████████                  | 296kB 8.0MB/s eta 0:00:01\r\u001b[K     |██████████████▋                 | 307kB 8.0MB/s eta 0:00:01\r\u001b[K     |███████████████                 | 317kB 8.0MB/s eta 0:00:01\r\u001b[K     |███████████████▌                | 327kB 8.0MB/s eta 0:00:01\r\u001b[K     |████████████████                | 337kB 8.0MB/s eta 0:00:01\r\u001b[K     |████████████████▌               | 348kB 8.0MB/s eta 0:00:01\r\u001b[K     |█████████████████               | 358kB 8.0MB/s eta 0:00:01\r\u001b[K     |█████████████████▌              | 368kB 8.0MB/s eta 0:00:01\r\u001b[K     |██████████████████              | 378kB 8.0MB/s eta 0:00:01\r\u001b[K     |██████████████████▌             | 389kB 8.0MB/s eta 0:00:01\r\u001b[K     |███████████████████             | 399kB 8.0MB/s eta 0:00:01\r\u001b[K     |███████████████████▍            | 409kB 8.0MB/s eta 0:00:01\r\u001b[K     |████████████████████            | 419kB 8.0MB/s eta 0:00:01\r\u001b[K     |████████████████████▍           | 430kB 8.0MB/s eta 0:00:01\r\u001b[K     |████████████████████▉           | 440kB 8.0MB/s eta 0:00:01\r\u001b[K     |█████████████████████▍          | 450kB 8.0MB/s eta 0:00:01\r\u001b[K     |█████████████████████▉          | 460kB 8.0MB/s eta 0:00:01\r\u001b[K     |██████████████████████▍         | 471kB 8.0MB/s eta 0:00:01\r\u001b[K     |██████████████████████▉         | 481kB 8.0MB/s eta 0:00:01\r\u001b[K     |███████████████████████▎        | 491kB 8.0MB/s eta 0:00:01\r\u001b[K     |███████████████████████▉        | 501kB 8.0MB/s eta 0:00:01\r\u001b[K     |████████████████████████▎       | 512kB 8.0MB/s eta 0:00:01\r\u001b[K     |████████████████████████▊       | 522kB 8.0MB/s eta 0:00:01\r\u001b[K     |█████████████████████████▎      | 532kB 8.0MB/s eta 0:00:01\r\u001b[K     |█████████████████████████▊      | 542kB 8.0MB/s eta 0:00:01\r\u001b[K     |██████████████████████████▏     | 552kB 8.0MB/s eta 0:00:01\r\u001b[K     |██████████████████████████▊     | 563kB 8.0MB/s eta 0:00:01\r\u001b[K     |███████████████████████████▏    | 573kB 8.0MB/s eta 0:00:01\r\u001b[K     |███████████████████████████▊    | 583kB 8.0MB/s eta 0:00:01\r\u001b[K     |████████████████████████████▏   | 593kB 8.0MB/s eta 0:00:01\r\u001b[K     |████████████████████████████▋   | 604kB 8.0MB/s eta 0:00:01\r\u001b[K     |█████████████████████████████▏  | 614kB 8.0MB/s eta 0:00:01\r\u001b[K     |█████████████████████████████▋  | 624kB 8.0MB/s eta 0:00:01\r\u001b[K     |██████████████████████████████  | 634kB 8.0MB/s eta 0:00:01\r\u001b[K     |██████████████████████████████▋ | 645kB 8.0MB/s eta 0:00:01\r\u001b[K     |███████████████████████████████ | 655kB 8.0MB/s eta 0:00:01\r\u001b[K     |███████████████████████████████▋| 665kB 8.0MB/s eta 0:00:01\r\u001b[K     |████████████████████████████████| 675kB 8.0MB/s \n",
            "\u001b[?25hRequirement already satisfied: tqdm>=4.27 in /usr/local/lib/python3.6/dist-packages (from transformers) (4.41.1)\n",
            "Requirement already satisfied: dataclasses; python_version < \"3.7\" in /usr/local/lib/python3.6/dist-packages (from transformers) (0.7)\n",
            "Requirement already satisfied: regex!=2019.12.17 in /usr/local/lib/python3.6/dist-packages (from transformers) (2019.12.20)\n",
            "Requirement already satisfied: requests in /usr/local/lib/python3.6/dist-packages (from transformers) (2.23.0)\n",
            "Collecting sentencepiece\n",
            "\u001b[?25l  Downloading https://files.pythonhosted.org/packages/d4/a4/d0a884c4300004a78cca907a6ff9a5e9fe4f090f5d95ab341c53d28cbc58/sentencepiece-0.1.91-cp36-cp36m-manylinux1_x86_64.whl (1.1MB)\n",
            "\u001b[K     |████████████████████████████████| 1.1MB 23.6MB/s \n",
            "\u001b[?25hCollecting tokenizers==0.7.0\n",
            "\u001b[?25l  Downloading https://files.pythonhosted.org/packages/14/e5/a26eb4716523808bb0a799fcfdceb6ebf77a18169d9591b2f46a9adb87d9/tokenizers-0.7.0-cp36-cp36m-manylinux1_x86_64.whl (3.8MB)\n",
            "\u001b[K     |████████████████████████████████| 3.8MB 48.3MB/s \n",
            "\u001b[?25hCollecting sacremoses\n",
            "\u001b[?25l  Downloading https://files.pythonhosted.org/packages/7d/34/09d19aff26edcc8eb2a01bed8e98f13a1537005d31e95233fd48216eed10/sacremoses-0.0.43.tar.gz (883kB)\n",
            "\u001b[K     |████████████████████████████████| 890kB 62.0MB/s \n",
            "\u001b[?25hRequirement already satisfied: numpy in /usr/local/lib/python3.6/dist-packages (from transformers) (1.18.5)\n",
            "Requirement already satisfied: packaging in /usr/local/lib/python3.6/dist-packages (from transformers) (20.4)\n",
            "Requirement already satisfied: filelock in /usr/local/lib/python3.6/dist-packages (from transformers) (3.0.12)\n",
            "Requirement already satisfied: urllib3!=1.25.0,!=1.25.1,<1.26,>=1.21.1 in /usr/local/lib/python3.6/dist-packages (from requests->transformers) (1.24.3)\n",
            "Requirement already satisfied: chardet<4,>=3.0.2 in /usr/local/lib/python3.6/dist-packages (from requests->transformers) (3.0.4)\n",
            "Requirement already satisfied: certifi>=2017.4.17 in /usr/local/lib/python3.6/dist-packages (from requests->transformers) (2020.4.5.2)\n",
            "Requirement already satisfied: idna<3,>=2.5 in /usr/local/lib/python3.6/dist-packages (from requests->transformers) (2.9)\n",
            "Requirement already satisfied: six in /usr/local/lib/python3.6/dist-packages (from sacremoses->transformers) (1.12.0)\n",
            "Requirement already satisfied: click in /usr/local/lib/python3.6/dist-packages (from sacremoses->transformers) (7.1.2)\n",
            "Requirement already satisfied: joblib in /usr/local/lib/python3.6/dist-packages (from sacremoses->transformers) (0.15.1)\n",
            "Requirement already satisfied: pyparsing>=2.0.2 in /usr/local/lib/python3.6/dist-packages (from packaging->transformers) (2.4.7)\n",
            "Building wheels for collected packages: sacremoses\n",
            "  Building wheel for sacremoses (setup.py) ... \u001b[?25l\u001b[?25hdone\n",
            "  Created wheel for sacremoses: filename=sacremoses-0.0.43-cp36-none-any.whl size=893260 sha256=0bf02e7230a80de1bae09c466839b84295e44e3aa6a272fb967dadb063be8c8d\n",
            "  Stored in directory: /root/.cache/pip/wheels/29/3c/fd/7ce5c3f0666dab31a50123635e6fb5e19ceb42ce38d4e58f45\n",
            "Successfully built sacremoses\n",
            "Installing collected packages: sentencepiece, tokenizers, sacremoses, transformers\n",
            "Successfully installed sacremoses-0.0.43 sentencepiece-0.1.91 tokenizers-0.7.0 transformers-2.11.0\n",
            "Collecting pytorch-model-summary\n",
            "  Downloading https://files.pythonhosted.org/packages/a0/de/f3548f3081045cfc4020fc297cc9db74839a6849da8a41b89c48a3307da7/pytorch_model_summary-0.1.1-py3-none-any.whl\n",
            "Requirement already satisfied: tqdm in /usr/local/lib/python3.6/dist-packages (from pytorch-model-summary) (4.41.1)\n",
            "Requirement already satisfied: torch in /usr/local/lib/python3.6/dist-packages (from pytorch-model-summary) (1.5.0+cu101)\n",
            "Requirement already satisfied: numpy in /usr/local/lib/python3.6/dist-packages (from pytorch-model-summary) (1.18.5)\n",
            "Requirement already satisfied: future in /usr/local/lib/python3.6/dist-packages (from torch->pytorch-model-summary) (0.16.0)\n",
            "Installing collected packages: pytorch-model-summary\n",
            "Successfully installed pytorch-model-summary-0.1.1\n",
            "--2020-06-22 06:34:26--  https://raw.githubusercontent.com/WenquanZou/actor_assistant/master/data.csv\n",
            "Resolving raw.githubusercontent.com (raw.githubusercontent.com)... 151.101.0.133, 151.101.64.133, 151.101.128.133, ...\n",
            "Connecting to raw.githubusercontent.com (raw.githubusercontent.com)|151.101.0.133|:443... connected.\n",
            "HTTP request sent, awaiting response... 200 OK\n",
            "Length: 16577 (16K) [text/plain]\n",
            "Saving to: ‘data.csv’\n",
            "\n",
            "data.csv            100%[===================>]  16.19K  --.-KB/s    in 0.004s  \n",
            "\n",
            "2020-06-22 06:34:27 (4.40 MB/s) - ‘data.csv’ saved [16577/16577]\n",
            "\n",
            "--2020-06-22 06:34:28--  https://raw.githubusercontent.com/WenquanZou/actor_assistant/master/transitive_verbs.txt\n",
            "Resolving raw.githubusercontent.com (raw.githubusercontent.com)... 151.101.0.133, 151.101.64.133, 151.101.128.133, ...\n",
            "Connecting to raw.githubusercontent.com (raw.githubusercontent.com)|151.101.0.133|:443... connected.\n",
            "HTTP request sent, awaiting response... 200 OK\n",
            "Length: 1263 (1.2K) [text/plain]\n",
            "Saving to: ‘transitive_verbs.txt’\n",
            "\n",
            "transitive_verbs.tx 100%[===================>]   1.23K  --.-KB/s    in 0s      \n",
            "\n",
            "2020-06-22 06:34:28 (80.0 MB/s) - ‘transitive_verbs.txt’ saved [1263/1263]\n",
            "\n"
          ],
          "name": "stdout"
        }
      ]
    },
    {
      "cell_type": "markdown",
      "metadata": {
        "id": "aNtiPcb6o9Bd",
        "colab_type": "text"
      },
      "source": [
        "## 1.2 Import"
      ]
    },
    {
      "cell_type": "code",
      "metadata": {
        "id": "R1UMgv1g-GXF",
        "colab_type": "code",
        "colab": {}
      },
      "source": [
        "import os\n",
        "import torch\n",
        "import numpy as np\n",
        "import torch.nn as nn\n",
        "import torch.nn.functional as F\n",
        "from matplotlib.pyplot import figure\n",
        "import matplotlib.pyplot as plt\n",
        "from transformers import BertTokenizer, BertModel\n",
        "from torch.utils.data import Dataset, DataLoader\n",
        "import torchtext\n",
        "import pytorch_model_summary as pms"
      ],
      "execution_count": null,
      "outputs": []
    },
    {
      "cell_type": "markdown",
      "metadata": {
        "id": "AyYn0Wy1obtG",
        "colab_type": "text"
      },
      "source": [
        "## 1.3 GPU work\n"
      ]
    },
    {
      "cell_type": "code",
      "metadata": {
        "id": "RKzyFFwNpAXq",
        "colab_type": "code",
        "colab": {
          "base_uri": "https://localhost:8080/",
          "height": 51
        },
        "outputId": "0d4602f2-b8f1-4a44-c3b1-7866aa60cdcd"
      },
      "source": [
        "cuda_dev = '0' #GPU device 0 (can be changed if multiple GPUs are available)\n",
        "\n",
        "use_cuda = torch.cuda.is_available()\n",
        "device = torch.device(\"cuda:\" + cuda_dev if use_cuda else \"cpu\")\n",
        "\n",
        "print('Device: ' + str(device))\n",
        "if use_cuda:\n",
        "    print('GPU: ' + str(torch.cuda.get_device_name(int(cuda_dev))))"
      ],
      "execution_count": null,
      "outputs": [
        {
          "output_type": "stream",
          "text": [
            "Device: cuda:0\n",
            "GPU: Tesla P100-PCIE-16GB\n"
          ],
          "name": "stdout"
        }
      ]
    },
    {
      "cell_type": "markdown",
      "metadata": {
        "colab_type": "text",
        "id": "9ry9DPQJaktd"
      },
      "source": [
        "#2 Preprocessing\n"
      ]
    },
    {
      "cell_type": "markdown",
      "metadata": {
        "colab_type": "text",
        "id": "BTpelwBifGdX"
      },
      "source": [
        "## 2.1 Data collection"
      ]
    },
    {
      "cell_type": "code",
      "metadata": {
        "id": "uDXADasB7F0P",
        "colab_type": "code",
        "colab": {}
      },
      "source": [
        "class PlaysDataset(Dataset):\n",
        "  def __init__(self, texts, annotations, embeddings, annotation_vectors):\n",
        "    self.samples = []\n",
        "    for item in zip(texts, annotations, embeddings, annotation_vectors):\n",
        "      sample = {'text':item[0], 'annotation':item[1], 'embedding':item[2], 'annotation_vector':item[3]}\n",
        "      self.samples.append(sample)\n",
        "\n",
        "  def __len__(self):\n",
        "    return len(self.samples)\n",
        "\n",
        "  def __getitem__(self, item):\n",
        "    return self.samples[item]"
      ],
      "execution_count": null,
      "outputs": []
    },
    {
      "cell_type": "code",
      "metadata": {
        "id": "4rySdfg4b-4c",
        "colab_type": "code",
        "colab": {
          "base_uri": "https://localhost:8080/",
          "height": 204
        },
        "outputId": "a7efa848-c770-4c26-ea91-9a49b4f0d06f"
      },
      "source": [
        "# Read the meta data using pandas\n",
        "import pandas as pd\n",
        "\n",
        "dataset = pd.read_csv('data.csv')\n",
        "annotations = dataset[\"Annotation\"]\n",
        "texts = dataset[\"Text\"]\n",
        "\n",
        "dataset.head() # show the first five data entries"
      ],
      "execution_count": null,
      "outputs": [
        {
          "output_type": "execute_result",
          "data": {
            "text/html": [
              "<div>\n",
              "<style scoped>\n",
              "    .dataframe tbody tr th:only-of-type {\n",
              "        vertical-align: middle;\n",
              "    }\n",
              "\n",
              "    .dataframe tbody tr th {\n",
              "        vertical-align: top;\n",
              "    }\n",
              "\n",
              "    .dataframe thead th {\n",
              "        text-align: right;\n",
              "    }\n",
              "</style>\n",
              "<table border=\"1\" class=\"dataframe\">\n",
              "  <thead>\n",
              "    <tr style=\"text-align: right;\">\n",
              "      <th></th>\n",
              "      <th>Speaker</th>\n",
              "      <th>Text</th>\n",
              "      <th>Annotation</th>\n",
              "      <th>Emotion</th>\n",
              "    </tr>\n",
              "  </thead>\n",
              "  <tbody>\n",
              "    <tr>\n",
              "      <th>0</th>\n",
              "      <td>King Richard</td>\n",
              "      <td>Her life is safest only in her birth.</td>\n",
              "      <td>alert</td>\n",
              "      <td>supporting</td>\n",
              "    </tr>\n",
              "    <tr>\n",
              "      <th>1</th>\n",
              "      <td>Marcus Brutus</td>\n",
              "      <td>Prepare the body then, and follow us</td>\n",
              "      <td>allow</td>\n",
              "      <td>supporting</td>\n",
              "    </tr>\n",
              "    <tr>\n",
              "      <th>2</th>\n",
              "      <td>Marcus Brutus</td>\n",
              "      <td>Or else were this a savage spectacle. Our reas...</td>\n",
              "      <td>assure</td>\n",
              "      <td>supporting</td>\n",
              "    </tr>\n",
              "    <tr>\n",
              "      <th>3</th>\n",
              "      <td>Mark Antony</td>\n",
              "      <td>Let each man render me his bloody hand. First,...</td>\n",
              "      <td>capture</td>\n",
              "      <td>supporting</td>\n",
              "    </tr>\n",
              "    <tr>\n",
              "      <th>4</th>\n",
              "      <td>King Richard</td>\n",
              "      <td>Madam, with all my heart</td>\n",
              "      <td>catch</td>\n",
              "      <td>supporting</td>\n",
              "    </tr>\n",
              "  </tbody>\n",
              "</table>\n",
              "</div>"
            ],
            "text/plain": [
              "         Speaker  ...     Emotion\n",
              "0   King Richard  ...  supporting\n",
              "1  Marcus Brutus  ...  supporting\n",
              "2  Marcus Brutus  ...  supporting\n",
              "3    Mark Antony  ...  supporting\n",
              "4   King Richard  ...  supporting\n",
              "\n",
              "[5 rows x 4 columns]"
            ]
          },
          "metadata": {
            "tags": []
          },
          "execution_count": 5
        }
      ]
    },
    {
      "cell_type": "code",
      "metadata": {
        "id": "S0qpIuYZ9o7B",
        "colab_type": "code",
        "colab": {
          "base_uri": "https://localhost:8080/",
          "height": 675
        },
        "outputId": "545783bd-14bf-4246-cbe9-01bcf608c306"
      },
      "source": [
        "figure(num=None, figsize=(12, 9), dpi=80, facecolor='w', edgecolor='k')\n",
        "dataset[\"Emotion\"].value_counts().plot.bar()"
      ],
      "execution_count": null,
      "outputs": [
        {
          "output_type": "execute_result",
          "data": {
            "text/plain": [
              "<matplotlib.axes._subplots.AxesSubplot at 0x7f9fdf358a20>"
            ]
          },
          "metadata": {
            "tags": []
          },
          "execution_count": 7
        },
        {
          "output_type": "display_data",
          "data": {
            "image/png": "[encoded data removed]",
            "text/plain": [
              "<Figure size 960x720 with 1 Axes>"
            ]
          },
          "metadata": {
            "tags": []
          }
        }
      ]
    },
    {
      "cell_type": "code",
      "metadata": {
        "id": "uRXpmE7vDHY-",
        "colab_type": "code",
        "colab": {}
      },
      "source": [
        "with open(\"transitive_verbs.txt\", \"r\") as vocabulary:\n",
        "  action_verbs = vocabulary.read().splitlines()"
      ],
      "execution_count": null,
      "outputs": []
    },
    {
      "cell_type": "markdown",
      "metadata": {
        "colab_type": "text",
        "id": "xugHvJEofHKo"
      },
      "source": [
        "## 2.2 Parse\n"
      ]
    },
    {
      "cell_type": "code",
      "metadata": {
        "id": "07rvkL-TVg8r",
        "colab_type": "code",
        "colab": {
          "base_uri": "https://localhost:8080/",
          "height": 1000,
          "referenced_widgets": [
            "ed89ce8db3cf43ea97d20b2744b8bbcc",
            "321c58ac65d944168cee98c1f493e4ca",
            "1c7526a8adde4691a585ffc0f5024a62",
            "7a7cb0b50d3d4102a6d969343dcf92ac",
            "adf2442111f9441793435f97cc51166d",
            "fc6fdc6139b442fcad2ad031ce3f9392",
            "db5e82bace6c4e6d9c27d368ed5ab680",
            "bde38e5fabd04bd09eb6749d15c8bcc8",
            "35480cfe6e9a46bfaafdf86f620f45e0",
            "3032b5cbe3a843bc97b833fb5fd6b534",
            "1f442155c1ae4721b717a96c3f7ea140",
            "ec6d295c2f684983a70156d795da88a4",
            "e6468db04adf4f748219ece09b3d9afd",
            "abf9987d850243d589f41ff93c2f7f19",
            "241d12138ce34d5a87e7af78ec7bfcc1",
            "7e073c1a17f4494cabe99d0188e54938",
            "1529b658138e4baeb3999b6d69e3831e",
            "61db1f3ee753492a872144a6081d8838",
            "0708d9a2819e408a89931af1761d1007",
            "2f7faa38fb9d45e09329b4565b287b4c",
            "bafecfe089904e799abb3f4bfe47f638",
            "85d2c556c7714658ad528a440d964ff8",
            "858f84161da14ecd89cecba1bae7c493",
            "bc8b948a9ef6405b82a70e4fae613809"
          ]
        },
        "outputId": "a32aad90-e430-4f1d-f5f8-8ed3097c2ae6"
      },
      "source": [
        "# Load pre-trained model tokenizer (vocabulary)\n",
        "tokenizer = BertTokenizer.from_pretrained('bert-base-cased')\n",
        "\n",
        "# Load pre-trained model (weights)\n",
        "bert_model = BertModel.from_pretrained('bert-base-cased')\n",
        "bert_model.cuda()"
      ],
      "execution_count": null,
      "outputs": [
        {
          "output_type": "display_data",
          "data": {
            "application/vnd.jupyter.widget-view+json": {
              "model_id": "ed89ce8db3cf43ea97d20b2744b8bbcc",
              "version_minor": 0,
              "version_major": 2
            },
            "text/plain": [
              "HBox(children=(FloatProgress(value=0.0, description='Downloading', max=213450.0, style=ProgressStyle(descripti…"
            ]
          },
          "metadata": {
            "tags": []
          }
        },
        {
          "output_type": "stream",
          "text": [
            "\n"
          ],
          "name": "stdout"
        },
        {
          "output_type": "display_data",
          "data": {
            "application/vnd.jupyter.widget-view+json": {
              "model_id": "35480cfe6e9a46bfaafdf86f620f45e0",
              "version_minor": 0,
              "version_major": 2
            },
            "text/plain": [
              "HBox(children=(FloatProgress(value=0.0, description='Downloading', max=433.0, style=ProgressStyle(description_…"
            ]
          },
          "metadata": {
            "tags": []
          }
        },
        {
          "output_type": "stream",
          "text": [
            "\n"
          ],
          "name": "stdout"
        },
        {
          "output_type": "display_data",
          "data": {
            "application/vnd.jupyter.widget-view+json": {
              "model_id": "1529b658138e4baeb3999b6d69e3831e",
              "version_minor": 0,
              "version_major": 2
            },
            "text/plain": [
              "HBox(children=(FloatProgress(value=0.0, description='Downloading', max=435779157.0, style=ProgressStyle(descri…"
            ]
          },
          "metadata": {
            "tags": []
          }
        },
        {
          "output_type": "stream",
          "text": [
            "\n"
          ],
          "name": "stdout"
        },
        {
          "output_type": "execute_result",
          "data": {
            "text/plain": [
              "BertModel(\n",
              "  (embeddings): BertEmbeddings(\n",
              "    (word_embeddings): Embedding(28996, 768, padding_idx=0)\n",
              "    (position_embeddings): Embedding(512, 768)\n",
              "    (token_type_embeddings): Embedding(2, 768)\n",
              "    (LayerNorm): LayerNorm((768,), eps=1e-12, elementwise_affine=True)\n",
              "    (dropout): Dropout(p=0.1, inplace=False)\n",
              "  )\n",
              "  (encoder): BertEncoder(\n",
              "    (layer): ModuleList(\n",
              "      (0): BertLayer(\n",
              "        (attention): BertAttention(\n",
              "          (self): BertSelfAttention(\n",
              "            (query): Linear(in_features=768, out_features=768, bias=True)\n",
              "            (key): Linear(in_features=768, out_features=768, bias=True)\n",
              "            (value): Linear(in_features=768, out_features=768, bias=True)\n",
              "            (dropout): Dropout(p=0.1, inplace=False)\n",
              "          )\n",
              "          (output): BertSelfOutput(\n",
              "            (dense): Linear(in_features=768, out_features=768, bias=True)\n",
              "            (LayerNorm): LayerNorm((768,), eps=1e-12, elementwise_affine=True)\n",
              "            (dropout): Dropout(p=0.1, inplace=False)\n",
              "          )\n",
              "        )\n",
              "        (intermediate): BertIntermediate(\n",
              "          (dense): Linear(in_features=768, out_features=3072, bias=True)\n",
              "        )\n",
              "        (output): BertOutput(\n",
              "          (dense): Linear(in_features=3072, out_features=768, bias=True)\n",
              "          (LayerNorm): LayerNorm((768,), eps=1e-12, elementwise_affine=True)\n",
              "          (dropout): Dropout(p=0.1, inplace=False)\n",
              "        )\n",
              "      )\n",
              "      (1): BertLayer(\n",
              "        (attention): BertAttention(\n",
              "          (self): BertSelfAttention(\n",
              "            (query): Linear(in_features=768, out_features=768, bias=True)\n",
              "            (key): Linear(in_features=768, out_features=768, bias=True)\n",
              "            (value): Linear(in_features=768, out_features=768, bias=True)\n",
              "            (dropout): Dropout(p=0.1, inplace=False)\n",
              "          )\n",
              "          (output): BertSelfOutput(\n",
              "            (dense): Linear(in_features=768, out_features=768, bias=True)\n",
              "            (LayerNorm): LayerNorm((768,), eps=1e-12, elementwise_affine=True)\n",
              "            (dropout): Dropout(p=0.1, inplace=False)\n",
              "          )\n",
              "        )\n",
              "        (intermediate): BertIntermediate(\n",
              "          (dense): Linear(in_features=768, out_features=3072, bias=True)\n",
              "        )\n",
              "        (output): BertOutput(\n",
              "          (dense): Linear(in_features=3072, out_features=768, bias=True)\n",
              "          (LayerNorm): LayerNorm((768,), eps=1e-12, elementwise_affine=True)\n",
              "          (dropout): Dropout(p=0.1, inplace=False)\n",
              "        )\n",
              "      )\n",
              "      (2): BertLayer(\n",
              "        (attention): BertAttention(\n",
              "          (self): BertSelfAttention(\n",
              "            (query): Linear(in_features=768, out_features=768, bias=True)\n",
              "            (key): Linear(in_features=768, out_features=768, bias=True)\n",
              "            (value): Linear(in_features=768, out_features=768, bias=True)\n",
              "            (dropout): Dropout(p=0.1, inplace=False)\n",
              "          )\n",
              "          (output): BertSelfOutput(\n",
              "            (dense): Linear(in_features=768, out_features=768, bias=True)\n",
              "            (LayerNorm): LayerNorm((768,), eps=1e-12, elementwise_affine=True)\n",
              "            (dropout): Dropout(p=0.1, inplace=False)\n",
              "          )\n",
              "        )\n",
              "        (intermediate): BertIntermediate(\n",
              "          (dense): Linear(in_features=768, out_features=3072, bias=True)\n",
              "        )\n",
              "        (output): BertOutput(\n",
              "          (dense): Linear(in_features=3072, out_features=768, bias=True)\n",
              "          (LayerNorm): LayerNorm((768,), eps=1e-12, elementwise_affine=True)\n",
              "          (dropout): Dropout(p=0.1, inplace=False)\n",
              "        )\n",
              "      )\n",
              "      (3): BertLayer(\n",
              "        (attention): BertAttention(\n",
              "          (self): BertSelfAttention(\n",
              "            (query): Linear(in_features=768, out_features=768, bias=True)\n",
              "            (key): Linear(in_features=768, out_features=768, bias=True)\n",
              "            (value): Linear(in_features=768, out_features=768, bias=True)\n",
              "            (dropout): Dropout(p=0.1, inplace=False)\n",
              "          )\n",
              "          (output): BertSelfOutput(\n",
              "            (dense): Linear(in_features=768, out_features=768, bias=True)\n",
              "            (LayerNorm): LayerNorm((768,), eps=1e-12, elementwise_affine=True)\n",
              "            (dropout): Dropout(p=0.1, inplace=False)\n",
              "          )\n",
              "        )\n",
              "        (intermediate): BertIntermediate(\n",
              "          (dense): Linear(in_features=768, out_features=3072, bias=True)\n",
              "        )\n",
              "        (output): BertOutput(\n",
              "          (dense): Linear(in_features=3072, out_features=768, bias=True)\n",
              "          (LayerNorm): LayerNorm((768,), eps=1e-12, elementwise_affine=True)\n",
              "          (dropout): Dropout(p=0.1, inplace=False)\n",
              "        )\n",
              "      )\n",
              "      (4): BertLayer(\n",
              "        (attention): BertAttention(\n",
              "          (self): BertSelfAttention(\n",
              "            (query): Linear(in_features=768, out_features=768, bias=True)\n",
              "            (key): Linear(in_features=768, out_features=768, bias=True)\n",
              "            (value): Linear(in_features=768, out_features=768, bias=True)\n",
              "            (dropout): Dropout(p=0.1, inplace=False)\n",
              "          )\n",
              "          (output): BertSelfOutput(\n",
              "            (dense): Linear(in_features=768, out_features=768, bias=True)\n",
              "            (LayerNorm): LayerNorm((768,), eps=1e-12, elementwise_affine=True)\n",
              "            (dropout): Dropout(p=0.1, inplace=False)\n",
              "          )\n",
              "        )\n",
              "        (intermediate): BertIntermediate(\n",
              "          (dense): Linear(in_features=768, out_features=3072, bias=True)\n",
              "        )\n",
              "        (output): BertOutput(\n",
              "          (dense): Linear(in_features=3072, out_features=768, bias=True)\n",
              "          (LayerNorm): LayerNorm((768,), eps=1e-12, elementwise_affine=True)\n",
              "          (dropout): Dropout(p=0.1, inplace=False)\n",
              "        )\n",
              "      )\n",
              "      (5): BertLayer(\n",
              "        (attention): BertAttention(\n",
              "          (self): BertSelfAttention(\n",
              "            (query): Linear(in_features=768, out_features=768, bias=True)\n",
              "            (key): Linear(in_features=768, out_features=768, bias=True)\n",
              "            (value): Linear(in_features=768, out_features=768, bias=True)\n",
              "            (dropout): Dropout(p=0.1, inplace=False)\n",
              "          )\n",
              "          (output): BertSelfOutput(\n",
              "            (dense): Linear(in_features=768, out_features=768, bias=True)\n",
              "            (LayerNorm): LayerNorm((768,), eps=1e-12, elementwise_affine=True)\n",
              "            (dropout): Dropout(p=0.1, inplace=False)\n",
              "          )\n",
              "        )\n",
              "        (intermediate): BertIntermediate(\n",
              "          (dense): Linear(in_features=768, out_features=3072, bias=True)\n",
              "        )\n",
              "        (output): BertOutput(\n",
              "          (dense): Linear(in_features=3072, out_features=768, bias=True)\n",
              "          (LayerNorm): LayerNorm((768,), eps=1e-12, elementwise_affine=True)\n",
              "          (dropout): Dropout(p=0.1, inplace=False)\n",
              "        )\n",
              "      )\n",
              "      (6): BertLayer(\n",
              "        (attention): BertAttention(\n",
              "          (self): BertSelfAttention(\n",
              "            (query): Linear(in_features=768, out_features=768, bias=True)\n",
              "            (key): Linear(in_features=768, out_features=768, bias=True)\n",
              "            (value): Linear(in_features=768, out_features=768, bias=True)\n",
              "            (dropout): Dropout(p=0.1, inplace=False)\n",
              "          )\n",
              "          (output): BertSelfOutput(\n",
              "            (dense): Linear(in_features=768, out_features=768, bias=True)\n",
              "            (LayerNorm): LayerNorm((768,), eps=1e-12, elementwise_affine=True)\n",
              "            (dropout): Dropout(p=0.1, inplace=False)\n",
              "          )\n",
              "        )\n",
              "        (intermediate): BertIntermediate(\n",
              "          (dense): Linear(in_features=768, out_features=3072, bias=True)\n",
              "        )\n",
              "        (output): BertOutput(\n",
              "          (dense): Linear(in_features=3072, out_features=768, bias=True)\n",
              "          (LayerNorm): LayerNorm((768,), eps=1e-12, elementwise_affine=True)\n",
              "          (dropout): Dropout(p=0.1, inplace=False)\n",
              "        )\n",
              "      )\n",
              "      (7): BertLayer(\n",
              "        (attention): BertAttention(\n",
              "          (self): BertSelfAttention(\n",
              "            (query): Linear(in_features=768, out_features=768, bias=True)\n",
              "            (key): Linear(in_features=768, out_features=768, bias=True)\n",
              "            (value): Linear(in_features=768, out_features=768, bias=True)\n",
              "            (dropout): Dropout(p=0.1, inplace=False)\n",
              "          )\n",
              "          (output): BertSelfOutput(\n",
              "            (dense): Linear(in_features=768, out_features=768, bias=True)\n",
              "            (LayerNorm): LayerNorm((768,), eps=1e-12, elementwise_affine=True)\n",
              "            (dropout): Dropout(p=0.1, inplace=False)\n",
              "          )\n",
              "        )\n",
              "        (intermediate): BertIntermediate(\n",
              "          (dense): Linear(in_features=768, out_features=3072, bias=True)\n",
              "        )\n",
              "        (output): BertOutput(\n",
              "          (dense): Linear(in_features=3072, out_features=768, bias=True)\n",
              "          (LayerNorm): LayerNorm((768,), eps=1e-12, elementwise_affine=True)\n",
              "          (dropout): Dropout(p=0.1, inplace=False)\n",
              "        )\n",
              "      )\n",
              "      (8): BertLayer(\n",
              "        (attention): BertAttention(\n",
              "          (self): BertSelfAttention(\n",
              "            (query): Linear(in_features=768, out_features=768, bias=True)\n",
              "            (key): Linear(in_features=768, out_features=768, bias=True)\n",
              "            (value): Linear(in_features=768, out_features=768, bias=True)\n",
              "            (dropout): Dropout(p=0.1, inplace=False)\n",
              "          )\n",
              "          (output): BertSelfOutput(\n",
              "            (dense): Linear(in_features=768, out_features=768, bias=True)\n",
              "            (LayerNorm): LayerNorm((768,), eps=1e-12, elementwise_affine=True)\n",
              "            (dropout): Dropout(p=0.1, inplace=False)\n",
              "          )\n",
              "        )\n",
              "        (intermediate): BertIntermediate(\n",
              "          (dense): Linear(in_features=768, out_features=3072, bias=True)\n",
              "        )\n",
              "        (output): BertOutput(\n",
              "          (dense): Linear(in_features=3072, out_features=768, bias=True)\n",
              "          (LayerNorm): LayerNorm((768,), eps=1e-12, elementwise_affine=True)\n",
              "          (dropout): Dropout(p=0.1, inplace=False)\n",
              "        )\n",
              "      )\n",
              "      (9): BertLayer(\n",
              "        (attention): BertAttention(\n",
              "          (self): BertSelfAttention(\n",
              "            (query): Linear(in_features=768, out_features=768, bias=True)\n",
              "            (key): Linear(in_features=768, out_features=768, bias=True)\n",
              "            (value): Linear(in_features=768, out_features=768, bias=True)\n",
              "            (dropout): Dropout(p=0.1, inplace=False)\n",
              "          )\n",
              "          (output): BertSelfOutput(\n",
              "            (dense): Linear(in_features=768, out_features=768, bias=True)\n",
              "            (LayerNorm): LayerNorm((768,), eps=1e-12, elementwise_affine=True)\n",
              "            (dropout): Dropout(p=0.1, inplace=False)\n",
              "          )\n",
              "        )\n",
              "        (intermediate): BertIntermediate(\n",
              "          (dense): Linear(in_features=768, out_features=3072, bias=True)\n",
              "        )\n",
              "        (output): BertOutput(\n",
              "          (dense): Linear(in_features=3072, out_features=768, bias=True)\n",
              "          (LayerNorm): LayerNorm((768,), eps=1e-12, elementwise_affine=True)\n",
              "          (dropout): Dropout(p=0.1, inplace=False)\n",
              "        )\n",
              "      )\n",
              "      (10): BertLayer(\n",
              "        (attention): BertAttention(\n",
              "          (self): BertSelfAttention(\n",
              "            (query): Linear(in_features=768, out_features=768, bias=True)\n",
              "            (key): Linear(in_features=768, out_features=768, bias=True)\n",
              "            (value): Linear(in_features=768, out_features=768, bias=True)\n",
              "            (dropout): Dropout(p=0.1, inplace=False)\n",
              "          )\n",
              "          (output): BertSelfOutput(\n",
              "            (dense): Linear(in_features=768, out_features=768, bias=True)\n",
              "            (LayerNorm): LayerNorm((768,), eps=1e-12, elementwise_affine=True)\n",
              "            (dropout): Dropout(p=0.1, inplace=False)\n",
              "          )\n",
              "        )\n",
              "        (intermediate): BertIntermediate(\n",
              "          (dense): Linear(in_features=768, out_features=3072, bias=True)\n",
              "        )\n",
              "        (output): BertOutput(\n",
              "          (dense): Linear(in_features=3072, out_features=768, bias=True)\n",
              "          (LayerNorm): LayerNorm((768,), eps=1e-12, elementwise_affine=True)\n",
              "          (dropout): Dropout(p=0.1, inplace=False)\n",
              "        )\n",
              "      )\n",
              "      (11): BertLayer(\n",
              "        (attention): BertAttention(\n",
              "          (self): BertSelfAttention(\n",
              "            (query): Linear(in_features=768, out_features=768, bias=True)\n",
              "            (key): Linear(in_features=768, out_features=768, bias=True)\n",
              "            (value): Linear(in_features=768, out_features=768, bias=True)\n",
              "            (dropout): Dropout(p=0.1, inplace=False)\n",
              "          )\n",
              "          (output): BertSelfOutput(\n",
              "            (dense): Linear(in_features=768, out_features=768, bias=True)\n",
              "            (LayerNorm): LayerNorm((768,), eps=1e-12, elementwise_affine=True)\n",
              "            (dropout): Dropout(p=0.1, inplace=False)\n",
              "          )\n",
              "        )\n",
              "        (intermediate): BertIntermediate(\n",
              "          (dense): Linear(in_features=768, out_features=3072, bias=True)\n",
              "        )\n",
              "        (output): BertOutput(\n",
              "          (dense): Linear(in_features=3072, out_features=768, bias=True)\n",
              "          (LayerNorm): LayerNorm((768,), eps=1e-12, elementwise_affine=True)\n",
              "          (dropout): Dropout(p=0.1, inplace=False)\n",
              "        )\n",
              "      )\n",
              "    )\n",
              "  )\n",
              "  (pooler): BertPooler(\n",
              "    (dense): Linear(in_features=768, out_features=768, bias=True)\n",
              "    (activation): Tanh()\n",
              "  )\n",
              ")"
            ]
          },
          "metadata": {
            "tags": []
          },
          "execution_count": 8
        }
      ]
    },
    {
      "cell_type": "code",
      "metadata": {
        "id": "g0D5SsQ7vLhT",
        "colab_type": "code",
        "colab": {
          "base_uri": "https://localhost:8080/",
          "height": 51
        },
        "outputId": "405d756e-4cf0-4312-e320-38008b471b7d"
      },
      "source": [
        "# Embedding for English when dim 300\n",
        "glove = torchtext.vocab.GloVe(name='6B', dim=300)"
      ],
      "execution_count": null,
      "outputs": [
        {
          "output_type": "stream",
          "text": [
            ".vector_cache/glove.6B.zip: 862MB [06:25, 2.23MB/s]                           \n",
            "100%|█████████▉| 399304/400000 [00:48<00:00, 8315.64it/s]"
          ],
          "name": "stderr"
        }
      ]
    },
    {
      "cell_type": "code",
      "metadata": {
        "id": "7D1kx8uU6_cp",
        "colab_type": "code",
        "colab": {}
      },
      "source": [
        "def get_embedding(text_dataset, is_pad=False, max_length=128):\n",
        "  inputs = [tokenizer.encode_plus(text_input, add_special_tokens = True, max_length = max_length, pad_to_max_length=is_pad) for text_input in text_dataset]\n",
        "\n",
        "  input_ids = [d['input_ids'] for d in inputs]\n",
        "  input_segments = [d['token_type_ids'] for d in inputs]\n",
        "\n",
        "  # Convert inputs to PyTorch tensors\n",
        "  tokens_tensor = torch.tensor(input_ids)\n",
        "  segments_tensor = torch.tensor(input_segments)\n",
        "  # attention_masks_tensor = torch.tensor(input_attention_masks)\n",
        "  \n",
        "  # Predict hidden states features for each layer\n",
        "  with torch.no_grad():\n",
        "    last_hidden_states,_ = bert_model(tokens_tensor.to(device), segments_tensor.to(device))\n",
        "\n",
        "\n",
        "  last_hidden_states = last_hidden_states.cpu().detach().numpy()\n",
        "  return last_hidden_states"
      ],
      "execution_count": null,
      "outputs": []
    },
    {
      "cell_type": "code",
      "metadata": {
        "colab_type": "code",
        "id": "ktHGdCAIe_ju",
        "pycharm": {
          "is_executing": true
        },
        "colab": {}
      },
      "source": [
        "last_hidden_states = get_embedding(texts, True)\n",
        "# sentence_embeddings = np.array([np.sum(embedding, axis=0) for embedding in last_hidden_states])\n",
        "sentence_embeddings = last_hidden_states[:, 0,:]"
      ],
      "execution_count": null,
      "outputs": []
    },
    {
      "cell_type": "code",
      "metadata": {
        "colab_type": "code",
        "id": "_bUN_tIaTs5U",
        "pycharm": {
          "is_executing": true
        },
        "colab": {}
      },
      "source": [
        "last_hidden_states = get_embedding(annotations, True, 8)\n",
        "# annotation_embeddings = [np.sum(embedding, axis=0) for embedding in last_hidden_states]\n",
        "annotation_embeddings = last_hidden_states[:, 0, :]\n",
        "# annotation_embeddings = [glove.vectors[glove.stoi[annotation_input.lower()]] for annotation_input in annotations]"
      ],
      "execution_count": null,
      "outputs": []
    },
    {
      "cell_type": "markdown",
      "metadata": {
        "colab_type": "text",
        "id": "r3tZn79Pfht4"
      },
      "source": [
        "# 3 Implementation of models"
      ]
    },
    {
      "cell_type": "code",
      "metadata": {
        "id": "e2tNnjKS7_cU",
        "colab_type": "code",
        "colab": {}
      },
      "source": [
        "class SimpleCNNForAction(nn.Module):\n",
        "  def __init__(self, input_size, output_size):\n",
        "    super(SimpleCNNForAction, self).__init__()\n",
        "    self.conv1 = nn.Conv1d(1, 1024, kernel_size=3, padding=1)\n",
        "    self.conv2 = nn.Conv1d(1024, 256, kernel_size=3, padding=1)\n",
        "    self.drop1 = nn.Dropout(p=0.1)\n",
        "    self.conv3 = nn.Conv1d(256, output_size, kernel_size=3, padding=1)\n",
        "\n",
        "\n",
        "  def forward(self, x):\n",
        "    x = F.relu(self.conv1(x))\n",
        "    x = F.relu(self.conv2(x))\n",
        "    x = self.drop1(x)\n",
        "    x = F.relu(self.conv3(x))\n",
        "    return x\n",
        "\n",
        "\n",
        "class SingleFeedforwardNN(nn.Module):\n",
        "  def __init__(self, input_size, output_size, hidden_size):\n",
        "    super(SingleFeedforwardNN, self).__init__()\n",
        "    self.layer1 = nn.Linear(input_size, hidden_size)\n",
        "    self.layer2 = nn.Linear(hidden_size, output_size)\n",
        "    self.loss = nn.CosineSimilarity(dim=1, eps=1e-6)\n",
        "\n",
        "  def forward(self, x):\n",
        "    x = F.relu(self.layer1(x))\n",
        "    x = F.relu(self.layer2(x))\n",
        "    return x\n",
        "\n",
        "class ActionVerbDecoder(nn.Module):\n",
        "  def __init__(self, vocabulary):\n",
        "    super(ActionVerbDecoder, self).__init__()\n",
        "    # self.vocabulary = [verb for verb in vocabulary]\n",
        "    self.vocabulary = vocabulary\n",
        "    self.vocabulary_embeddings = [glove.vectors[glove.stoi[verb.lower()]] for verb in self.vocabulary]\n",
        "    # self.vocabulary_embeddings = np.array([np.sum(embedding, axis=0) for embedding in get_embedding(self.vocabulary, True, 4)])\n",
        "\n",
        "  def predict(self, word_vector, text):\n",
        "    max_similarity = 0\n",
        "    word_vector = word_vector\n",
        "\n",
        "    word_vector2 = np.array([np.sum(embedding, axis=0) for embedding in get_embedding([text], True, 128)])\n",
        "    for index, verb_embedding in enumerate(self.vocabulary_embeddings):\n",
        "      similarity = cosine(verb_embedding, word_vector)\n",
        "      if similarity > max_similarity:\n",
        "        max_similarity = similarity\n",
        "        result_index = index\n",
        "        print(\"max_similarity {:.6f}, verb: {}\".format(max_similarity, self.vocabulary[index]))\n",
        "    return self.vocabulary[index], max_similarity"
      ],
      "execution_count": null,
      "outputs": []
    },
    {
      "cell_type": "markdown",
      "metadata": {
        "colab_type": "text",
        "id": "j4GNP9gYawPi"
      },
      "source": [
        "# 4 Model training"
      ]
    },
    {
      "cell_type": "code",
      "metadata": {
        "id": "lw4hfi0xarYf",
        "colab_type": "code",
        "colab": {}
      },
      "source": [
        "torch.manual_seed(42) #fix random seed\n",
        "\n",
        "train_dataset = PlaysDataset(texts[:135], annotations[:135], sentence_embeddings, annotation_embeddings[:135])\n",
        "val_dataset = PlaysDataset(texts[135:], annotations[135:], sentence_embeddings, annotation_embeddings[135:])\n",
        "dataloader_train = DataLoader(train_dataset, batch_size=1, shuffle=True)\n",
        "dataloader_val = DataLoader(val_dataset, batch_size=1, shuffle=True)\n"
      ],
      "execution_count": null,
      "outputs": []
    },
    {
      "cell_type": "code",
      "metadata": {
        "id": "3NriGKJM2ziu",
        "colab_type": "code",
        "colab": {
          "base_uri": "https://localhost:8080/",
          "height": 1000
        },
        "outputId": "f3615ada-cebf-4cf7-9985-7e7f03cf3a9b"
      },
      "source": [
        "num_epochs = 150\n",
        "\n",
        "linear_encoder = SingleFeedforwardNN(768, 768, 600).cuda()\n",
        "linear_encoder.train()\n",
        "    \n",
        "optimizer = torch.optim.Adagrad(linear_encoder.parameters(), lr=0.01)\n",
        "\n",
        "loss_train_linear_log = []\n",
        "loss_val_linear_log = []\n",
        "epoch_val_log = []\n",
        "    \n",
        "print('START TRAINING...')\n",
        "for epoch in range(1, num_epochs + 1):\n",
        "\n",
        "    # Training\n",
        "    for batch_idx, batch_samples in enumerate(dataloader_train):\n",
        "      embedding = batch_samples['embedding'].to(device)\n",
        "      annotation_vector = batch_samples['annotation_vector'].to(device)\n",
        "      optimizer.zero_grad()\n",
        "      prd = linear_encoder(embedding)\n",
        "      loss = 1 - linear_encoder.loss(prd, annotation_vector)\n",
        "      loss = loss.mean()\n",
        "      loss.backward()\n",
        "      optimizer.step()\n",
        "\n",
        "    loss_train_linear_log.append(loss.item())\n",
        "\n",
        "    print('+ TRAINING \\tEpoch: {} \\tLoss: {:.6f}'.format(epoch, loss.item()))\n",
        " \n",
        "    # Validation\n",
        "    if epoch == 1 or epoch % 10 == 0:\n",
        "      loss_val = 0\n",
        "      sum_pts = 0\n",
        "      with torch.no_grad():\n",
        "        for data_sample in dataloader_val:\n",
        "          embedding = data_sample['embedding'].to(device)\n",
        "          annotation_vector = data_sample['annotation_vector'].to(device)\n",
        "          prd = linear_encoder(embedding)\n",
        "          loss_val = loss_val + (1 - F.cosine_similarity(prd, annotation_vector))\n",
        "          sum_pts += 1\n",
        "      loss_val /= sum_pts\n",
        "\n",
        "      loss_val_linear_log.append(loss_val.item())\n",
        "      epoch_val_log.append(epoch)\n",
        "      print('--------------------------------------------------')\n",
        "      print('+ VALIDATE \\tEpoch: {} \\tLoss: {:.6f}'.format(epoch, loss_val.item()))\n",
        "      print('--------------------------------------------------')\n",
        "\n",
        "plt.title('Learning curve of linear model over original text')\n",
        "plt.xlabel('Number of epoch')\n",
        "plt.ylabel('Cosine similarity loss')\n",
        "plt.plot(range(len(loss_train_linear_log)), loss_train_linear_log)\n",
        "plt.plot(epoch_val_log, loss_val_linear_log)"
      ],
      "execution_count": null,
      "outputs": [
        {
          "output_type": "stream",
          "text": [
            "START TRAINING...\n",
            "+ TRAINING \tEpoch: 1 \tLoss: 0.364769\n",
            "--------------------------------------------------\n",
            "+ VALIDATE \tEpoch: 1 \tLoss: 0.405059\n",
            "--------------------------------------------------\n",
            "+ TRAINING \tEpoch: 2 \tLoss: 0.345623\n",
            "+ TRAINING \tEpoch: 3 \tLoss: 0.371069\n",
            "+ TRAINING \tEpoch: 4 \tLoss: 0.382771\n",
            "+ TRAINING \tEpoch: 5 \tLoss: 0.378787\n",
            "+ TRAINING \tEpoch: 6 \tLoss: 0.373948\n",
            "+ TRAINING \tEpoch: 7 \tLoss: 0.371415\n",
            "+ TRAINING \tEpoch: 8 \tLoss: 0.377033\n",
            "+ TRAINING \tEpoch: 9 \tLoss: 0.393100\n",
            "+ TRAINING \tEpoch: 10 \tLoss: 0.373609\n",
            "--------------------------------------------------\n",
            "+ VALIDATE \tEpoch: 10 \tLoss: 0.395013\n",
            "--------------------------------------------------\n",
            "+ TRAINING \tEpoch: 11 \tLoss: 0.368084\n",
            "+ TRAINING \tEpoch: 12 \tLoss: 0.372668\n",
            "+ TRAINING \tEpoch: 13 \tLoss: 0.348167\n",
            "+ TRAINING \tEpoch: 14 \tLoss: 0.365727\n",
            "+ TRAINING \tEpoch: 15 \tLoss: 0.375022\n",
            "+ TRAINING \tEpoch: 16 \tLoss: 0.345061\n",
            "+ TRAINING \tEpoch: 17 \tLoss: 0.407611\n",
            "+ TRAINING \tEpoch: 18 \tLoss: 0.360548\n",
            "+ TRAINING \tEpoch: 19 \tLoss: 0.327178\n",
            "+ TRAINING \tEpoch: 20 \tLoss: 0.329547\n",
            "--------------------------------------------------\n",
            "+ VALIDATE \tEpoch: 20 \tLoss: 0.395353\n",
            "--------------------------------------------------\n",
            "+ TRAINING \tEpoch: 21 \tLoss: 0.387731\n",
            "+ TRAINING \tEpoch: 22 \tLoss: 0.338265\n",
            "+ TRAINING \tEpoch: 23 \tLoss: 0.360113\n",
            "+ TRAINING \tEpoch: 24 \tLoss: 0.337074\n",
            "+ TRAINING \tEpoch: 25 \tLoss: 0.367942\n",
            "+ TRAINING \tEpoch: 26 \tLoss: 0.341069\n",
            "+ TRAINING \tEpoch: 27 \tLoss: 0.349517\n",
            "+ TRAINING \tEpoch: 28 \tLoss: 0.329862\n",
            "+ TRAINING \tEpoch: 29 \tLoss: 0.407143\n",
            "+ TRAINING \tEpoch: 30 \tLoss: 0.319333\n",
            "--------------------------------------------------\n",
            "+ VALIDATE \tEpoch: 30 \tLoss: 0.395338\n",
            "--------------------------------------------------\n",
            "+ TRAINING \tEpoch: 31 \tLoss: 0.356217\n",
            "+ TRAINING \tEpoch: 32 \tLoss: 0.419287\n",
            "+ TRAINING \tEpoch: 33 \tLoss: 0.350237\n",
            "+ TRAINING \tEpoch: 34 \tLoss: 0.345143\n",
            "+ TRAINING \tEpoch: 35 \tLoss: 0.361669\n",
            "+ TRAINING \tEpoch: 36 \tLoss: 0.345200\n",
            "+ TRAINING \tEpoch: 37 \tLoss: 0.404363\n",
            "+ TRAINING \tEpoch: 38 \tLoss: 0.335833\n",
            "+ TRAINING \tEpoch: 39 \tLoss: 0.332087\n",
            "+ TRAINING \tEpoch: 40 \tLoss: 0.328307\n",
            "--------------------------------------------------\n",
            "+ VALIDATE \tEpoch: 40 \tLoss: 0.393331\n",
            "--------------------------------------------------\n",
            "+ TRAINING \tEpoch: 41 \tLoss: 0.378477\n",
            "+ TRAINING \tEpoch: 42 \tLoss: 0.339974\n",
            "+ TRAINING \tEpoch: 43 \tLoss: 0.327567\n",
            "+ TRAINING \tEpoch: 44 \tLoss: 0.337998\n",
            "+ TRAINING \tEpoch: 45 \tLoss: 0.352390\n",
            "+ TRAINING \tEpoch: 46 \tLoss: 0.332685\n",
            "+ TRAINING \tEpoch: 47 \tLoss: 0.376038\n",
            "+ TRAINING \tEpoch: 48 \tLoss: 0.335988\n",
            "+ TRAINING \tEpoch: 49 \tLoss: 0.325841\n",
            "+ TRAINING \tEpoch: 50 \tLoss: 0.343271\n",
            "--------------------------------------------------\n",
            "+ VALIDATE \tEpoch: 50 \tLoss: 0.389434\n",
            "--------------------------------------------------\n",
            "+ TRAINING \tEpoch: 51 \tLoss: 0.393209\n",
            "+ TRAINING \tEpoch: 52 \tLoss: 0.344215\n",
            "+ TRAINING \tEpoch: 53 \tLoss: 0.330826\n",
            "+ TRAINING \tEpoch: 54 \tLoss: 0.329662\n",
            "+ TRAINING \tEpoch: 55 \tLoss: 0.332750\n",
            "+ TRAINING \tEpoch: 56 \tLoss: 0.334940\n",
            "+ TRAINING \tEpoch: 57 \tLoss: 0.357215\n",
            "+ TRAINING \tEpoch: 58 \tLoss: 0.374470\n",
            "+ TRAINING \tEpoch: 59 \tLoss: 0.375248\n",
            "+ TRAINING \tEpoch: 60 \tLoss: 0.339733\n",
            "--------------------------------------------------\n",
            "+ VALIDATE \tEpoch: 60 \tLoss: 0.389248\n",
            "--------------------------------------------------\n",
            "+ TRAINING \tEpoch: 61 \tLoss: 0.309050\n",
            "+ TRAINING \tEpoch: 62 \tLoss: 0.320356\n",
            "+ TRAINING \tEpoch: 63 \tLoss: 0.358576\n",
            "+ TRAINING \tEpoch: 64 \tLoss: 0.326084\n",
            "+ TRAINING \tEpoch: 65 \tLoss: 0.392763\n",
            "+ TRAINING \tEpoch: 66 \tLoss: 0.336257\n",
            "+ TRAINING \tEpoch: 67 \tLoss: 0.319763\n",
            "+ TRAINING \tEpoch: 68 \tLoss: 0.390908\n",
            "+ TRAINING \tEpoch: 69 \tLoss: 0.321240\n",
            "+ TRAINING \tEpoch: 70 \tLoss: 0.321294\n",
            "--------------------------------------------------\n",
            "+ VALIDATE \tEpoch: 70 \tLoss: 0.384113\n",
            "--------------------------------------------------\n",
            "+ TRAINING \tEpoch: 71 \tLoss: 0.324563\n",
            "+ TRAINING \tEpoch: 72 \tLoss: 0.342089\n",
            "+ TRAINING \tEpoch: 73 \tLoss: 0.320444\n",
            "+ TRAINING \tEpoch: 74 \tLoss: 0.369140\n",
            "+ TRAINING \tEpoch: 75 \tLoss: 0.355812\n",
            "+ TRAINING \tEpoch: 76 \tLoss: 0.334145\n",
            "+ TRAINING \tEpoch: 77 \tLoss: 0.325112\n",
            "+ TRAINING \tEpoch: 78 \tLoss: 0.350812\n",
            "+ TRAINING \tEpoch: 79 \tLoss: 0.351278\n",
            "+ TRAINING \tEpoch: 80 \tLoss: 0.327579\n",
            "--------------------------------------------------\n",
            "+ VALIDATE \tEpoch: 80 \tLoss: 0.381327\n",
            "--------------------------------------------------\n",
            "+ TRAINING \tEpoch: 81 \tLoss: 0.333996\n",
            "+ TRAINING \tEpoch: 82 \tLoss: 0.332112\n",
            "+ TRAINING \tEpoch: 83 \tLoss: 0.326790\n",
            "+ TRAINING \tEpoch: 84 \tLoss: 0.371340\n",
            "+ TRAINING \tEpoch: 85 \tLoss: 0.323448\n",
            "+ TRAINING \tEpoch: 86 \tLoss: 0.331560\n",
            "+ TRAINING \tEpoch: 87 \tLoss: 0.320852\n",
            "+ TRAINING \tEpoch: 88 \tLoss: 0.334271\n",
            "+ TRAINING \tEpoch: 89 \tLoss: 0.324408\n",
            "+ TRAINING \tEpoch: 90 \tLoss: 0.341442\n",
            "--------------------------------------------------\n",
            "+ VALIDATE \tEpoch: 90 \tLoss: 0.381935\n",
            "--------------------------------------------------\n",
            "+ TRAINING \tEpoch: 91 \tLoss: 0.339275\n",
            "+ TRAINING \tEpoch: 92 \tLoss: 0.346152\n",
            "+ TRAINING \tEpoch: 93 \tLoss: 0.319965\n",
            "+ TRAINING \tEpoch: 94 \tLoss: 0.333221\n",
            "+ TRAINING \tEpoch: 95 \tLoss: 0.340620\n",
            "+ TRAINING \tEpoch: 96 \tLoss: 0.334548\n",
            "+ TRAINING \tEpoch: 97 \tLoss: 0.313223\n",
            "+ TRAINING \tEpoch: 98 \tLoss: 0.305780\n",
            "+ TRAINING \tEpoch: 99 \tLoss: 0.378377\n",
            "+ TRAINING \tEpoch: 100 \tLoss: 0.333176\n",
            "--------------------------------------------------\n",
            "+ VALIDATE \tEpoch: 100 \tLoss: 0.379458\n",
            "--------------------------------------------------\n",
            "+ TRAINING \tEpoch: 101 \tLoss: 0.347391\n",
            "+ TRAINING \tEpoch: 102 \tLoss: 0.329542\n",
            "+ TRAINING \tEpoch: 103 \tLoss: 0.315279\n",
            "+ TRAINING \tEpoch: 104 \tLoss: 0.331324\n",
            "+ TRAINING \tEpoch: 105 \tLoss: 0.317362\n",
            "+ TRAINING \tEpoch: 106 \tLoss: 0.335680\n",
            "+ TRAINING \tEpoch: 107 \tLoss: 0.322534\n",
            "+ TRAINING \tEpoch: 108 \tLoss: 0.394197\n",
            "+ TRAINING \tEpoch: 109 \tLoss: 0.329960\n",
            "+ TRAINING \tEpoch: 110 \tLoss: 0.320097\n",
            "--------------------------------------------------\n",
            "+ VALIDATE \tEpoch: 110 \tLoss: 0.373794\n",
            "--------------------------------------------------\n",
            "+ TRAINING \tEpoch: 111 \tLoss: 0.305974\n",
            "+ TRAINING \tEpoch: 112 \tLoss: 0.354066\n",
            "+ TRAINING \tEpoch: 113 \tLoss: 0.331945\n",
            "+ TRAINING \tEpoch: 114 \tLoss: 0.344301\n",
            "+ TRAINING \tEpoch: 115 \tLoss: 0.333275\n",
            "+ TRAINING \tEpoch: 116 \tLoss: 0.343205\n",
            "+ TRAINING \tEpoch: 117 \tLoss: 0.340641\n",
            "+ TRAINING \tEpoch: 118 \tLoss: 0.311733\n",
            "+ TRAINING \tEpoch: 119 \tLoss: 0.329212\n",
            "+ TRAINING \tEpoch: 120 \tLoss: 0.315723\n",
            "--------------------------------------------------\n",
            "+ VALIDATE \tEpoch: 120 \tLoss: 0.372935\n",
            "--------------------------------------------------\n",
            "+ TRAINING \tEpoch: 121 \tLoss: 0.324870\n",
            "+ TRAINING \tEpoch: 122 \tLoss: 0.317577\n",
            "+ TRAINING \tEpoch: 123 \tLoss: 0.302049\n",
            "+ TRAINING \tEpoch: 124 \tLoss: 0.338535\n",
            "+ TRAINING \tEpoch: 125 \tLoss: 0.324701\n",
            "+ TRAINING \tEpoch: 126 \tLoss: 0.327003\n",
            "+ TRAINING \tEpoch: 127 \tLoss: 0.320139\n",
            "+ TRAINING \tEpoch: 128 \tLoss: 0.357969\n",
            "+ TRAINING \tEpoch: 129 \tLoss: 0.338734\n",
            "+ TRAINING \tEpoch: 130 \tLoss: 0.371783\n",
            "--------------------------------------------------\n",
            "+ VALIDATE \tEpoch: 130 \tLoss: 0.372069\n",
            "--------------------------------------------------\n",
            "+ TRAINING \tEpoch: 131 \tLoss: 0.317420\n",
            "+ TRAINING \tEpoch: 132 \tLoss: 0.330474\n",
            "+ TRAINING \tEpoch: 133 \tLoss: 0.327348\n",
            "+ TRAINING \tEpoch: 134 \tLoss: 0.327543\n",
            "+ TRAINING \tEpoch: 135 \tLoss: 0.309122\n",
            "+ TRAINING \tEpoch: 136 \tLoss: 0.298431\n",
            "+ TRAINING \tEpoch: 137 \tLoss: 0.321001\n",
            "+ TRAINING \tEpoch: 138 \tLoss: 0.315957\n",
            "+ TRAINING \tEpoch: 139 \tLoss: 0.337427\n",
            "+ TRAINING \tEpoch: 140 \tLoss: 0.326033\n",
            "--------------------------------------------------\n",
            "+ VALIDATE \tEpoch: 140 \tLoss: 0.370138\n",
            "--------------------------------------------------\n",
            "+ TRAINING \tEpoch: 141 \tLoss: 0.324065\n",
            "+ TRAINING \tEpoch: 142 \tLoss: 0.322725\n",
            "+ TRAINING \tEpoch: 143 \tLoss: 0.355150\n",
            "+ TRAINING \tEpoch: 144 \tLoss: 0.327107\n",
            "+ TRAINING \tEpoch: 145 \tLoss: 0.294975\n",
            "+ TRAINING \tEpoch: 146 \tLoss: 0.304806\n",
            "+ TRAINING \tEpoch: 147 \tLoss: 0.293843\n",
            "+ TRAINING \tEpoch: 148 \tLoss: 0.320676\n",
            "+ TRAINING \tEpoch: 149 \tLoss: 0.337429\n",
            "+ TRAINING \tEpoch: 150 \tLoss: 0.337777\n",
            "--------------------------------------------------\n",
            "+ VALIDATE \tEpoch: 150 \tLoss: 0.371570\n",
            "--------------------------------------------------\n"
          ],
          "name": "stdout"
        },
        {
          "output_type": "execute_result",
          "data": {
            "text/plain": [
              "[<matplotlib.lines.Line2D at 0x7f8204e25fd0>]"
            ]
          },
          "metadata": {
            "tags": []
          },
          "execution_count": 46
        },
        {
          "output_type": "display_data",
          "data": {
            "image/png": "[encoded data removed]",
            "text/plain": [
              "<Figure size 432x288 with 1 Axes>"
            ]
          },
          "metadata": {
            "tags": [],
            "needs_background": "light"
          }
        }
      ]
    },
    {
      "cell_type": "code",
      "metadata": {
        "id": "UjxAqOArGiJX",
        "colab_type": "code",
        "colab": {
          "base_uri": "https://localhost:8080/",
          "height": 265
        },
        "outputId": "095b85a6-8bb0-4ff3-85f8-646fda7fcb01"
      },
      "source": [
        "num_epochs = 150\n",
        "\n",
        "cnn_model = SimpleCNNForAction(768, 300).cuda()\n",
        "cnn_model.train()\n",
        "    \n",
        "optimizer = torch.optim.Adagrad(cnn_model.parameters(), lr=0.01, weight_decay=0.002)\n",
        "\n",
        "loss_train_cnn_log = []\n",
        "loss_val_cnn_log = []\n",
        "epoch_val_log = []\n",
        "    \n",
        "print('START TRAINING...')\n",
        "for epoch in range(1, num_epochs + 1):\n",
        "\n",
        "    # Training\n",
        "    for batch_idx, batch_samples in enumerate(dataloader_train):\n",
        "      embedding = batch_samples['embedding'].to(device)\n",
        "      annotation_vector = batch_samples['annotation_vector'].to(device)\n",
        "      optimizer.zero_grad()\n",
        "      embedding = embedding.view(1, 1, 768)\n",
        "      prd = cnn_model(embedding)\n",
        "      print(prd.shape)\n",
        "      loss = 1 - F.cosine_similarity(prd, annotation_vector)\n",
        "      loss = loss.mean()\n",
        "      loss.backward()\n",
        "      optimizer.step()\n",
        "\n",
        "    loss_train_cnn_log.append(loss.item())\n",
        "\n",
        "    print('+ TRAINING \\tEpoch: {} \\tLoss: {:.6f}'.format(epoch, loss.item()))\n",
        "\n",
        "    # Validation\n",
        "    if epoch == 1 or epoch % 10 == 0:\n",
        "      loss_val = 0\n",
        "      sum_pts = 0\n",
        "      with torch.no_grad():\n",
        "        for data_sample in dataloader_val:\n",
        "          embedding = data_sample['embedding'].to(device)\n",
        "          embedding = embedding.view(1, 1, 768)\n",
        "          annotation_vector = data_sample['annotation_vector'].to(device)\n",
        "          prd = cnn_model(embedding)\n",
        "          loss_val = loss_val + (1 - F.cosine_similarity(prd, annotation_vector))\n",
        "          loss_val = loss_val.mean()\n",
        "          sum_pts += 1\n",
        "      loss_val /= sum_pts\n",
        "\n",
        "      loss_val_cnn_log.append(loss_val.item())\n",
        "      epoch_val_log.append(epoch)\n",
        "      print('--------------------------------------------------')\n",
        "      print('+ VALIDATE \\tEpoch: {} \\tLoss: {:.6f}'.format(epoch, loss_val.item()))\n",
        "      print('--------------------------------------------------')\n",
        "\n",
        "plt.title('Learning curve of CNN model over original text')\n",
        "plt.xlabel('Number of epoch')\n",
        "plt.ylabel('Cosine similarity loss')\n",
        "plt.plot(range(len(loss_train_cnn_log)), loss_train_cnn_log)\n",
        "plt.plot(epoch_val_log, loss_val_cnn_log)\n"
      ],
      "execution_count": null,
      "outputs": [
        {
          "output_type": "stream",
          "text": [
            "START TRAINING...\n",
            "torch.Size([1, 300, 768])\n"
          ],
          "name": "stdout"
        },
        {
          "output_type": "error",
          "ename": "RuntimeError",
          "evalue": "ignored",
          "traceback": [
            "\u001b[0;31m---------------------------------------------------------------------------\u001b[0m",
            "\u001b[0;31mRuntimeError\u001b[0m                              Traceback (most recent call last)",
            "\u001b[0;32m<ipython-input-39-9b08762e765d>\u001b[0m in \u001b[0;36m<module>\u001b[0;34m()\u001b[0m\n\u001b[1;32m     21\u001b[0m       \u001b[0mprd\u001b[0m \u001b[0;34m=\u001b[0m \u001b[0mcnn_model\u001b[0m\u001b[0;34m(\u001b[0m\u001b[0membedding\u001b[0m\u001b[0;34m)\u001b[0m\u001b[0;34m\u001b[0m\u001b[0;34m\u001b[0m\u001b[0m\n\u001b[1;32m     22\u001b[0m       \u001b[0mprint\u001b[0m\u001b[0;34m(\u001b[0m\u001b[0mprd\u001b[0m\u001b[0;34m.\u001b[0m\u001b[0mshape\u001b[0m\u001b[0;34m)\u001b[0m\u001b[0;34m\u001b[0m\u001b[0;34m\u001b[0m\u001b[0m\n\u001b[0;32m---> 23\u001b[0;31m       \u001b[0mloss\u001b[0m \u001b[0;34m=\u001b[0m \u001b[0;36m1\u001b[0m \u001b[0;34m-\u001b[0m \u001b[0mF\u001b[0m\u001b[0;34m.\u001b[0m\u001b[0mcosine_similarity\u001b[0m\u001b[0;34m(\u001b[0m\u001b[0mprd\u001b[0m\u001b[0;34m,\u001b[0m \u001b[0mannotation_vector\u001b[0m\u001b[0;34m)\u001b[0m\u001b[0;34m\u001b[0m\u001b[0;34m\u001b[0m\u001b[0m\n\u001b[0m\u001b[1;32m     24\u001b[0m       \u001b[0mloss\u001b[0m \u001b[0;34m=\u001b[0m \u001b[0mloss\u001b[0m\u001b[0;34m.\u001b[0m\u001b[0mmean\u001b[0m\u001b[0;34m(\u001b[0m\u001b[0;34m)\u001b[0m\u001b[0;34m\u001b[0m\u001b[0;34m\u001b[0m\u001b[0m\n\u001b[1;32m     25\u001b[0m       \u001b[0mloss\u001b[0m\u001b[0;34m.\u001b[0m\u001b[0mbackward\u001b[0m\u001b[0;34m(\u001b[0m\u001b[0;34m)\u001b[0m\u001b[0;34m\u001b[0m\u001b[0;34m\u001b[0m\u001b[0m\n",
            "\u001b[0;31mRuntimeError\u001b[0m: The size of tensor a (768) must match the size of tensor b (300) at non-singleton dimension 2"
          ]
        }
      ]
    },
    {
      "cell_type": "code",
      "metadata": {
        "id": "Sn9HQM9Bo9c0",
        "colab_type": "code",
        "colab": {
          "base_uri": "https://localhost:8080/",
          "height": 1000
        },
        "outputId": "f8850321-e0bf-4b70-aad7-539172083c0b"
      },
      "source": [
        "num_epochs = 150\n",
        "\n",
        "linear_encoder_large = SingleFeedforwardNN(768, 768, 1600).cuda()\n",
        "linear_encoder_large.train()\n",
        "    \n",
        "optimizer = torch.optim.Adagrad(linear_encoder_large.parameters(), lr=0.01)\n",
        "\n",
        "loss_train_linear_large_log = []\n",
        "loss_val_linear_large_log = []\n",
        "epoch_val_log = []\n",
        "    \n",
        "print('START TRAINING...')\n",
        "for epoch in range(1, num_epochs + 1):\n",
        "\n",
        "    # Training\n",
        "    for batch_idx, batch_samples in enumerate(dataloader_train):\n",
        "      embedding = batch_samples['embedding'].to(device)\n",
        "      annotation_vector = batch_samples['annotation_vector'].to(device)\n",
        "      optimizer.zero_grad()\n",
        "      prd = linear_encoder_large(embedding)\n",
        "      loss = 1 - F.cosine_similarity(prd, annotation_vector)\n",
        "      loss = loss.mean()\n",
        "      loss.backward()\n",
        "      optimizer.step()\n",
        "\n",
        "    loss_train_linear_large_log.append(loss.item())\n",
        "\n",
        "    print('+ TRAINING \\tEpoch: {} \\tLoss: {:.6f}'.format(epoch, loss.item()))\n",
        " \n",
        "    # Validation\n",
        "    if epoch == 1 or epoch % 10 == 0:\n",
        "      loss_val = 0\n",
        "      sum_pts = 0\n",
        "      with torch.no_grad():\n",
        "        for data_sample in dataloader_val:\n",
        "          embedding = data_sample['embedding'].to(device)\n",
        "          annotation_vector = data_sample['annotation_vector'].to(device)\n",
        "          prd = linear_encoder_large(embedding)\n",
        "          loss_val = loss_val + (1 - F.cosine_similarity(prd, annotation_vector))\n",
        "          sum_pts += 1\n",
        "      loss_val /= sum_pts\n",
        "\n",
        "      loss_val_linear_large_log.append(loss_val.item())\n",
        "      epoch_val_log.append(epoch)\n",
        "      print('--------------------------------------------------')\n",
        "      print('+ VALIDATE \\tEpoch: {} \\tLoss: {:.6f}'.format(epoch, loss_val.item()))\n",
        "      print('--------------------------------------------------')\n",
        "\n",
        "plt.title('Learning curve of large linear model over original text')\n",
        "plt.xlabel('Number of epoch')\n",
        "plt.ylabel('Cosine similarity loss')\n",
        "plt.plot(range(len(loss_train_linear_large_log)), loss_train_linear_large_log)\n",
        "plt.plot(epoch_val_log, loss_val_linear_large_log)"
      ],
      "execution_count": null,
      "outputs": [
        {
          "output_type": "stream",
          "text": [
            "START TRAINING...\n",
            "+ TRAINING \tEpoch: 1 \tLoss: 0.409719\n",
            "--------------------------------------------------\n",
            "+ VALIDATE \tEpoch: 1 \tLoss: 0.441284\n",
            "--------------------------------------------------\n",
            "+ TRAINING \tEpoch: 2 \tLoss: 0.412324\n",
            "+ TRAINING \tEpoch: 3 \tLoss: 0.418561\n",
            "+ TRAINING \tEpoch: 4 \tLoss: 0.409052\n",
            "+ TRAINING \tEpoch: 5 \tLoss: 0.365181\n",
            "+ TRAINING \tEpoch: 6 \tLoss: 0.386259\n",
            "+ TRAINING \tEpoch: 7 \tLoss: 0.395773\n",
            "+ TRAINING \tEpoch: 8 \tLoss: 0.412814\n",
            "+ TRAINING \tEpoch: 9 \tLoss: 0.384117\n",
            "+ TRAINING \tEpoch: 10 \tLoss: 0.381971\n",
            "--------------------------------------------------\n",
            "+ VALIDATE \tEpoch: 10 \tLoss: 0.436430\n",
            "--------------------------------------------------\n",
            "+ TRAINING \tEpoch: 11 \tLoss: 0.407420\n",
            "+ TRAINING \tEpoch: 12 \tLoss: 0.380082\n",
            "+ TRAINING \tEpoch: 13 \tLoss: 0.380247\n",
            "+ TRAINING \tEpoch: 14 \tLoss: 0.385583\n",
            "+ TRAINING \tEpoch: 15 \tLoss: 0.362875\n",
            "+ TRAINING \tEpoch: 16 \tLoss: 0.366919\n",
            "+ TRAINING \tEpoch: 17 \tLoss: 0.379081\n",
            "+ TRAINING \tEpoch: 18 \tLoss: 0.384101\n",
            "+ TRAINING \tEpoch: 19 \tLoss: 0.380115\n",
            "+ TRAINING \tEpoch: 20 \tLoss: 0.379532\n",
            "--------------------------------------------------\n",
            "+ VALIDATE \tEpoch: 20 \tLoss: 0.433243\n",
            "--------------------------------------------------\n",
            "+ TRAINING \tEpoch: 21 \tLoss: 0.412477\n",
            "+ TRAINING \tEpoch: 22 \tLoss: 0.410048\n",
            "+ TRAINING \tEpoch: 23 \tLoss: 0.379238\n",
            "+ TRAINING \tEpoch: 24 \tLoss: 0.379188\n",
            "+ TRAINING \tEpoch: 25 \tLoss: 0.394692\n",
            "+ TRAINING \tEpoch: 26 \tLoss: 0.391255\n",
            "+ TRAINING \tEpoch: 27 \tLoss: 0.381837\n",
            "+ TRAINING \tEpoch: 28 \tLoss: 0.422877\n",
            "+ TRAINING \tEpoch: 29 \tLoss: 0.382863\n",
            "+ TRAINING \tEpoch: 30 \tLoss: 0.436421\n",
            "--------------------------------------------------\n",
            "+ VALIDATE \tEpoch: 30 \tLoss: 0.433383\n",
            "--------------------------------------------------\n",
            "+ TRAINING \tEpoch: 31 \tLoss: 0.381456\n",
            "+ TRAINING \tEpoch: 32 \tLoss: 0.374970\n",
            "+ TRAINING \tEpoch: 33 \tLoss: 0.370863\n",
            "+ TRAINING \tEpoch: 34 \tLoss: 0.368109\n",
            "+ TRAINING \tEpoch: 35 \tLoss: 0.378655\n",
            "+ TRAINING \tEpoch: 36 \tLoss: 0.400898\n",
            "+ TRAINING \tEpoch: 37 \tLoss: 0.377675\n",
            "+ TRAINING \tEpoch: 38 \tLoss: 0.378339\n",
            "+ TRAINING \tEpoch: 39 \tLoss: 0.385453\n",
            "+ TRAINING \tEpoch: 40 \tLoss: 0.424384\n",
            "--------------------------------------------------\n",
            "+ VALIDATE \tEpoch: 40 \tLoss: 0.433267\n",
            "--------------------------------------------------\n",
            "+ TRAINING \tEpoch: 41 \tLoss: 0.370763\n",
            "+ TRAINING \tEpoch: 42 \tLoss: 0.345088\n",
            "+ TRAINING \tEpoch: 43 \tLoss: 0.332847\n",
            "+ TRAINING \tEpoch: 44 \tLoss: 0.341702\n",
            "+ TRAINING \tEpoch: 45 \tLoss: 0.366340\n",
            "+ TRAINING \tEpoch: 46 \tLoss: 0.345054\n",
            "+ TRAINING \tEpoch: 47 \tLoss: 0.381618\n",
            "+ TRAINING \tEpoch: 48 \tLoss: 0.329850\n",
            "+ TRAINING \tEpoch: 49 \tLoss: 0.374541\n",
            "+ TRAINING \tEpoch: 50 \tLoss: 0.345253\n",
            "--------------------------------------------------\n",
            "+ VALIDATE \tEpoch: 50 \tLoss: 0.392831\n",
            "--------------------------------------------------\n",
            "+ TRAINING \tEpoch: 51 \tLoss: 0.361915\n",
            "+ TRAINING \tEpoch: 52 \tLoss: 0.338715\n",
            "+ TRAINING \tEpoch: 53 \tLoss: 0.339327\n",
            "+ TRAINING \tEpoch: 54 \tLoss: 0.330204\n",
            "+ TRAINING \tEpoch: 55 \tLoss: 0.325107\n",
            "+ TRAINING \tEpoch: 56 \tLoss: 0.362229\n",
            "+ TRAINING \tEpoch: 57 \tLoss: 0.359034\n",
            "+ TRAINING \tEpoch: 58 \tLoss: 0.324448\n",
            "+ TRAINING \tEpoch: 59 \tLoss: 0.358584\n",
            "+ TRAINING \tEpoch: 60 \tLoss: 0.361800\n",
            "--------------------------------------------------\n",
            "+ VALIDATE \tEpoch: 60 \tLoss: 0.389942\n",
            "--------------------------------------------------\n",
            "+ TRAINING \tEpoch: 61 \tLoss: 0.313120\n",
            "+ TRAINING \tEpoch: 62 \tLoss: 0.317683\n",
            "+ TRAINING \tEpoch: 63 \tLoss: 0.318091\n",
            "+ TRAINING \tEpoch: 64 \tLoss: 0.329844\n",
            "+ TRAINING \tEpoch: 65 \tLoss: 0.315561\n",
            "+ TRAINING \tEpoch: 66 \tLoss: 0.296534\n",
            "+ TRAINING \tEpoch: 67 \tLoss: 0.353013\n",
            "+ TRAINING \tEpoch: 68 \tLoss: 0.320405\n",
            "+ TRAINING \tEpoch: 69 \tLoss: 0.306279\n",
            "+ TRAINING \tEpoch: 70 \tLoss: 0.320609\n",
            "--------------------------------------------------\n",
            "+ VALIDATE \tEpoch: 70 \tLoss: 0.362612\n",
            "--------------------------------------------------\n",
            "+ TRAINING \tEpoch: 71 \tLoss: 0.345352\n",
            "+ TRAINING \tEpoch: 72 \tLoss: 0.289328\n",
            "+ TRAINING \tEpoch: 73 \tLoss: 0.286446\n",
            "+ TRAINING \tEpoch: 74 \tLoss: 0.362387\n",
            "+ TRAINING \tEpoch: 75 \tLoss: 0.311678\n",
            "+ TRAINING \tEpoch: 76 \tLoss: 0.292930\n",
            "+ TRAINING \tEpoch: 77 \tLoss: 0.304040\n",
            "+ TRAINING \tEpoch: 78 \tLoss: 0.329716\n",
            "+ TRAINING \tEpoch: 79 \tLoss: 0.363440\n",
            "+ TRAINING \tEpoch: 80 \tLoss: 0.355871\n",
            "--------------------------------------------------\n",
            "+ VALIDATE \tEpoch: 80 \tLoss: 0.361424\n",
            "--------------------------------------------------\n",
            "+ TRAINING \tEpoch: 81 \tLoss: 0.321588\n",
            "+ TRAINING \tEpoch: 82 \tLoss: 0.331476\n",
            "+ TRAINING \tEpoch: 83 \tLoss: 0.328580\n",
            "+ TRAINING \tEpoch: 84 \tLoss: 0.317719\n",
            "+ TRAINING \tEpoch: 85 \tLoss: 0.348992\n",
            "+ TRAINING \tEpoch: 86 \tLoss: 0.355376\n",
            "+ TRAINING \tEpoch: 87 \tLoss: 0.303758\n",
            "+ TRAINING \tEpoch: 88 \tLoss: 0.284787\n",
            "+ TRAINING \tEpoch: 89 \tLoss: 0.298310\n",
            "+ TRAINING \tEpoch: 90 \tLoss: 0.326914\n",
            "--------------------------------------------------\n",
            "+ VALIDATE \tEpoch: 90 \tLoss: 0.361861\n",
            "--------------------------------------------------\n",
            "+ TRAINING \tEpoch: 91 \tLoss: 0.299905\n",
            "+ TRAINING \tEpoch: 92 \tLoss: 0.298151\n",
            "+ TRAINING \tEpoch: 93 \tLoss: 0.326651\n",
            "+ TRAINING \tEpoch: 94 \tLoss: 0.297487\n",
            "+ TRAINING \tEpoch: 95 \tLoss: 0.314758\n",
            "+ TRAINING \tEpoch: 96 \tLoss: 0.288841\n",
            "+ TRAINING \tEpoch: 97 \tLoss: 0.311533\n",
            "+ TRAINING \tEpoch: 98 \tLoss: 0.277966\n",
            "+ TRAINING \tEpoch: 99 \tLoss: 0.315969\n",
            "+ TRAINING \tEpoch: 100 \tLoss: 0.286803\n",
            "--------------------------------------------------\n",
            "+ VALIDATE \tEpoch: 100 \tLoss: 0.353072\n",
            "--------------------------------------------------\n",
            "+ TRAINING \tEpoch: 101 \tLoss: 0.333467\n",
            "+ TRAINING \tEpoch: 102 \tLoss: 0.275482\n",
            "+ TRAINING \tEpoch: 103 \tLoss: 0.300478\n",
            "+ TRAINING \tEpoch: 104 \tLoss: 0.275331\n",
            "+ TRAINING \tEpoch: 105 \tLoss: 0.367222\n",
            "+ TRAINING \tEpoch: 106 \tLoss: 0.286994\n",
            "+ TRAINING \tEpoch: 107 \tLoss: 0.306344\n",
            "+ TRAINING \tEpoch: 108 \tLoss: 0.302017\n",
            "+ TRAINING \tEpoch: 109 \tLoss: 0.317091\n",
            "+ TRAINING \tEpoch: 110 \tLoss: 0.298926\n",
            "--------------------------------------------------\n",
            "+ VALIDATE \tEpoch: 110 \tLoss: 0.351595\n",
            "--------------------------------------------------\n",
            "+ TRAINING \tEpoch: 111 \tLoss: 0.317036\n",
            "+ TRAINING \tEpoch: 112 \tLoss: 0.314446\n",
            "+ TRAINING \tEpoch: 113 \tLoss: 0.291417\n",
            "+ TRAINING \tEpoch: 114 \tLoss: 0.313426\n",
            "+ TRAINING \tEpoch: 115 \tLoss: 0.311386\n",
            "+ TRAINING \tEpoch: 116 \tLoss: 0.314226\n",
            "+ TRAINING \tEpoch: 117 \tLoss: 0.328951\n",
            "+ TRAINING \tEpoch: 118 \tLoss: 0.298333\n",
            "+ TRAINING \tEpoch: 119 \tLoss: 0.267550\n",
            "+ TRAINING \tEpoch: 120 \tLoss: 0.307184\n",
            "--------------------------------------------------\n",
            "+ VALIDATE \tEpoch: 120 \tLoss: 0.347857\n",
            "--------------------------------------------------\n",
            "+ TRAINING \tEpoch: 121 \tLoss: 0.293390\n",
            "+ TRAINING \tEpoch: 122 \tLoss: 0.294947\n",
            "+ TRAINING \tEpoch: 123 \tLoss: 0.283134\n",
            "+ TRAINING \tEpoch: 124 \tLoss: 0.315066\n",
            "+ TRAINING \tEpoch: 125 \tLoss: 0.299480\n",
            "+ TRAINING \tEpoch: 126 \tLoss: 0.268632\n",
            "+ TRAINING \tEpoch: 127 \tLoss: 0.306126\n",
            "+ TRAINING \tEpoch: 128 \tLoss: 0.278409\n",
            "+ TRAINING \tEpoch: 129 \tLoss: 0.282115\n",
            "+ TRAINING \tEpoch: 130 \tLoss: 0.296844\n",
            "--------------------------------------------------\n",
            "+ VALIDATE \tEpoch: 130 \tLoss: 0.347610\n",
            "--------------------------------------------------\n",
            "+ TRAINING \tEpoch: 131 \tLoss: 0.294632\n",
            "+ TRAINING \tEpoch: 132 \tLoss: 0.301777\n",
            "+ TRAINING \tEpoch: 133 \tLoss: 0.279375\n",
            "+ TRAINING \tEpoch: 134 \tLoss: 0.259107\n",
            "+ TRAINING \tEpoch: 135 \tLoss: 0.295096\n",
            "+ TRAINING \tEpoch: 136 \tLoss: 0.267715\n",
            "+ TRAINING \tEpoch: 137 \tLoss: 0.267871\n",
            "+ TRAINING \tEpoch: 138 \tLoss: 0.316834\n",
            "+ TRAINING \tEpoch: 139 \tLoss: 0.307598\n",
            "+ TRAINING \tEpoch: 140 \tLoss: 0.279319\n",
            "--------------------------------------------------\n",
            "+ VALIDATE \tEpoch: 140 \tLoss: 0.347002\n",
            "--------------------------------------------------\n",
            "+ TRAINING \tEpoch: 141 \tLoss: 0.283204\n",
            "+ TRAINING \tEpoch: 142 \tLoss: 0.258378\n",
            "+ TRAINING \tEpoch: 143 \tLoss: 0.298166\n",
            "+ TRAINING \tEpoch: 144 \tLoss: 0.310451\n",
            "+ TRAINING \tEpoch: 145 \tLoss: 0.316334\n",
            "+ TRAINING \tEpoch: 146 \tLoss: 0.265335\n",
            "+ TRAINING \tEpoch: 147 \tLoss: 0.309940\n",
            "+ TRAINING \tEpoch: 148 \tLoss: 0.294624\n",
            "+ TRAINING \tEpoch: 149 \tLoss: 0.287603\n",
            "+ TRAINING \tEpoch: 150 \tLoss: 0.315833\n",
            "--------------------------------------------------\n",
            "+ VALIDATE \tEpoch: 150 \tLoss: 0.348205\n",
            "--------------------------------------------------\n"
          ],
          "name": "stdout"
        },
        {
          "output_type": "execute_result",
          "data": {
            "text/plain": [
              "[<matplotlib.lines.Line2D at 0x7f8204fc0c50>]"
            ]
          },
          "metadata": {
            "tags": []
          },
          "execution_count": 42
        },
        {
          "output_type": "display_data",
          "data": {
            "image/png": "[encoded data removed]",
            "text/plain": [
              "<Figure size 432x288 with 1 Axes>"
            ]
          },
          "metadata": {
            "tags": [],
            "needs_background": "light"
          }
        }
      ]
    },
    {
      "cell_type": "markdown",
      "metadata": {
        "colab_type": "text",
        "id": "zvZyNC-Rq5bd"
      },
      "source": [
        "# 5 Model output\n",
        "BERT model output a feature can be learn for later fine-tuning, which has (512, 768) dimension for just one sentence embedding."
      ]
    },
    {
      "cell_type": "code",
      "metadata": {
        "id": "m2K4T0vzMD_-",
        "colab_type": "code",
        "colab": {
          "base_uri": "https://localhost:8080/",
          "height": 306
        },
        "outputId": "5067b184-097e-4e04-ac2c-508abba3ca6c"
      },
      "source": [
        "from scipy.spatial.distance import cosine\n",
        "\n",
        "action_decoder = ActionVerbDecoder(action_verbs).cuda()\n",
        "\n",
        "test_sample1 = train_dataset[2]\n",
        "test_sample2 = train_dataset[1]\n",
        "\n",
        "with torch.no_grad():\n",
        "  transformed1 = linear_encoder(torch.tensor(test_sample1['embedding']).to(device)).cpu().detach().numpy()\n",
        "  transformed2 = linear_encoder(torch.tensor(test_sample2['embedding']).to(device)).cpu().detach().numpy()\n",
        "\n",
        "# print(cosine(test_sample1['embedding'], test_sample1['annotation_vector']))\n",
        "output1, _ =action_decoder.predict(transformed1, train_dataset[1]['annotation'])\n",
        "output2, _ =action_decoder.predict(transformed2, train_dataset[2]['annotation'])"
      ],
      "execution_count": null,
      "outputs": [
        {
          "output_type": "stream",
          "text": [
            "max_similarity 0.852486, verb: accept\n",
            "max_similarity 0.905693, verb: aggravate\n",
            "max_similarity 0.912266, verb: answer\n",
            "max_similarity 0.969203, verb: beat\n",
            "max_similarity 1.069572, verb: bend\n",
            "max_similarity 1.103738, verb: dunk\n",
            "max_similarity 1.132804, verb: punch\n",
            "max_similarity 1.139667, verb: ring\n",
            "max_similarity 0.826254, verb: accept\n",
            "max_similarity 0.871018, verb: admit\n",
            "max_similarity 0.906691, verb: bend\n",
            "max_similarity 0.916900, verb: bless\n",
            "max_similarity 0.950297, verb: brush\n",
            "max_similarity 1.013526, verb: comfort\n",
            "max_similarity 1.084617, verb: edify\n",
            "max_similarity 1.097336, verb: massage\n",
            "max_similarity 1.138646, verb: munch\n"
          ],
          "name": "stdout"
        }
      ]
    },
    {
      "cell_type": "code",
      "metadata": {
        "id": "Kx1qckCPZLeM",
        "colab_type": "code",
        "colab": {
          "base_uri": "https://localhost:8080/",
          "height": 1000
        },
        "outputId": "7f09722a-e329-465a-c9ee-3fd7747abe58"
      },
      "source": [
        "vector1 = glove.vectors[glove.stoi[\"challenge\"]]\n",
        "vector2 = glove.vectors[glove.stoi[\"block\"]]\n",
        "print(vector1)\n",
        "print(vector2)\n",
        "print(cosine(vector1, vector2))"
      ],
      "execution_count": null,
      "outputs": [
        {
          "output_type": "stream",
          "text": [
            "tensor([-0.0323,  0.0816,  0.0488, -0.4024,  0.0342,  0.1500,  0.1331, -0.0480,\n",
            "        -0.0809, -1.0803,  0.6057, -0.5628,  0.3534,  0.3465,  0.1670, -0.3999,\n",
            "        -0.0340,  0.0426, -0.2165, -0.0036,  0.1957, -0.1594,  0.4211, -0.2582,\n",
            "        -0.2770, -0.0979,  0.0219,  0.2932, -0.3820, -0.0864,  0.0133, -0.3912,\n",
            "         0.1655, -0.4005, -1.5610,  0.2442,  0.0696, -0.2534,  0.1117,  0.3003,\n",
            "         0.4606, -0.0786,  0.4350,  0.2099, -0.2667,  0.2923, -0.1041, -0.2901,\n",
            "         0.2833, -0.2193, -0.0895, -0.0107, -0.1867,  0.3114,  0.2753,  0.0923,\n",
            "        -0.1720, -0.0553,  0.2662,  0.3859,  0.1292,  0.2570, -0.5617, -0.0027,\n",
            "        -0.6135,  0.0339, -0.7355,  0.2602, -0.5002, -0.7228, -0.2788,  0.2341,\n",
            "        -0.1451, -0.1382,  0.3300, -0.2183, -0.1441, -0.1520, -0.0082,  0.2146,\n",
            "        -0.4287,  0.0430,  0.4447,  0.0813, -0.3261, -0.3527, -0.0432,  0.4726,\n",
            "         0.3520,  0.3743, -0.1223, -0.3177,  0.0471, -0.3784,  0.1357, -0.4333,\n",
            "         0.0736, -0.0809, -0.0072, -0.5034,  0.1785,  0.2335,  0.1392,  0.1245,\n",
            "        -0.0285, -0.0345, -0.1857,  0.1088, -0.0971, -0.0566,  0.3769, -0.4331,\n",
            "        -0.2822, -0.0837,  0.3345, -0.2236, -0.1438,  0.3571, -0.0635, -0.2473,\n",
            "         0.0445,  0.3177, -0.0884,  0.0266, -0.0677, -0.6449, -0.0542,  0.1258,\n",
            "         0.1834, -0.3841,  0.2189, -0.0850, -0.4911,  0.0453, -0.0676, -0.1189,\n",
            "         0.0161, -0.1036, -0.0808,  0.1367,  0.0793,  0.2344,  0.0180,  0.2487,\n",
            "        -0.2921, -0.0601, -0.3336, -0.1143, -0.4325,  0.2411,  0.4571, -0.1477,\n",
            "         0.3597,  0.1272,  0.2114, -0.2893, -0.2496, -0.1365, -0.2745,  0.3535,\n",
            "         0.3772,  0.2138, -0.3171,  0.2762, -0.3071, -0.3862, -0.5362, -0.0935,\n",
            "         0.2749,  0.0109,  0.4762, -0.1169, -0.6389, -0.3129, -0.0333,  0.0432,\n",
            "        -0.0188,  0.2133,  0.3528,  0.4657,  0.0347,  0.1146,  0.6787, -0.0586,\n",
            "        -0.1338, -0.0485, -0.2890,  0.1808,  0.1131, -0.0135, -0.0180,  0.3210,\n",
            "         0.1613,  0.3957,  0.1226,  0.1670,  0.0918,  0.0189, -0.0676, -0.4383,\n",
            "         1.0966, -0.2431,  0.0604, -0.4578, -0.4128, -0.1308,  0.3609,  0.0465,\n",
            "        -0.0749, -0.0537, -0.3541,  0.0152,  0.1824, -0.3995, -0.3106, -0.4320,\n",
            "        -0.7182,  0.0035, -0.5364, -0.2673,  0.0212,  0.2489,  0.2181,  0.7645,\n",
            "         0.2770, -0.1005,  0.1896,  0.1381, -0.5843, -0.0569, -0.1757,  0.2958,\n",
            "        -0.1144, -0.1452, -0.0991,  0.0364, -0.1295,  0.1003,  0.7293, -0.0050,\n",
            "        -0.5080,  0.2779,  0.4527, -0.1316, -0.9621,  0.5041, -0.3366,  0.0235,\n",
            "        -0.1056, -0.0261, -0.0311,  0.0404, -0.4117, -0.4124,  0.0183, -0.0903,\n",
            "        -0.0111, -0.2184, -0.1781,  0.6435,  0.0262, -0.8472, -0.1373,  0.0603,\n",
            "         0.0318,  0.2399, -0.2989, -0.1723,  0.1735, -0.3607,  0.2601,  0.4617,\n",
            "         0.2952,  0.0832,  0.1670, -0.0357, -1.4704,  0.2960,  0.6753,  0.0908,\n",
            "         0.4691, -0.3216, -0.0650,  0.6903, -0.1321, -0.6762, -0.3178,  0.0897,\n",
            "         0.0601, -0.4056, -0.1233,  0.3605,  0.4857,  0.2752,  0.4229,  0.1560,\n",
            "        -0.1638,  0.0878, -0.1509, -0.1009])\n",
            "tensor([-4.0328e-01, -3.2813e-01, -5.7228e-01, -4.4754e-03, -1.8338e-01,\n",
            "         6.3798e-02,  9.3883e-02,  5.0776e-01, -2.9602e-01, -1.2589e+00,\n",
            "        -5.7443e-01, -6.7841e-01,  1.1204e-02,  3.5742e-01, -2.5852e-02,\n",
            "         1.0191e-01, -4.8946e-01,  9.2805e-02,  3.9847e-01,  9.8536e-02,\n",
            "         3.9819e-01, -2.4831e-01,  4.6046e-01,  2.0959e-01, -9.5688e-03,\n",
            "         4.5542e-02,  2.4320e-02, -6.4206e-02, -1.7814e-01,  5.4276e-02,\n",
            "         1.2511e-01,  2.1894e-01,  1.4963e-01, -2.2601e-02, -4.1006e-01,\n",
            "         3.7781e-01,  8.1937e-02, -2.2980e-01, -8.3637e-02,  2.8338e-02,\n",
            "        -5.1090e-01,  3.2692e-01, -6.5651e-01,  1.4560e-01,  7.6003e-02,\n",
            "         5.8289e-01, -2.5409e-01, -1.5084e-01,  3.3438e-01, -2.9868e-01,\n",
            "        -1.7861e-01,  2.3459e-01,  4.3777e-01, -5.0928e-01,  4.5062e-01,\n",
            "         5.2280e-02, -1.6486e-01,  4.8666e-01, -1.1510e-02, -3.6646e-01,\n",
            "        -1.2545e-01,  1.4853e-01, -4.9076e-02, -1.7394e-01,  8.9973e-02,\n",
            "        -8.9751e-02,  5.1753e-02,  3.1857e-01,  4.0122e-01, -6.0838e-01,\n",
            "        -1.8364e-01,  1.2774e-01, -2.8916e-01,  5.8008e-01, -1.5402e-01,\n",
            "         2.6291e-01, -2.1406e-01, -9.9541e-02,  1.2984e-01,  1.9849e-01,\n",
            "         5.3779e-02, -4.6145e-01,  2.7458e-01,  2.3090e-01, -8.8002e-02,\n",
            "        -1.0099e-01,  4.3576e-02,  2.8515e-01, -7.5996e-02, -1.8694e-01,\n",
            "         1.0968e-01, -2.7973e-02, -2.1853e-01, -1.0401e-01,  4.5950e-01,\n",
            "        -5.7490e-02, -1.2735e-01, -5.3250e-02,  5.2045e-01, -4.5546e-01,\n",
            "        -2.4622e-01, -1.5893e-01, -2.8319e-01, -1.6429e-01, -1.4743e-02,\n",
            "        -7.9065e-02, -4.6939e-01, -4.9056e-01,  9.0318e-01, -1.6350e-01,\n",
            "        -2.5845e-01,  2.7863e-02, -2.6140e-01,  2.8251e-01, -5.8374e-01,\n",
            "         1.2086e-01, -2.8703e-03,  3.8907e-01, -5.7446e-01,  8.6677e-02,\n",
            "         4.8429e-01,  4.6741e-02,  1.5353e-01, -3.4292e-01, -3.0986e-01,\n",
            "        -1.4620e-02,  2.6942e-01, -1.3148e-01,  3.9727e-01, -1.2247e-01,\n",
            "         2.8632e-02,  2.4724e-01, -1.8946e-03,  4.9088e-02,  6.0980e-01,\n",
            "         7.3869e-02,  7.5312e-02, -2.5402e-01,  1.7673e-01, -2.1091e-01,\n",
            "         2.7254e-02, -4.6513e-02, -3.0691e-02,  1.8454e-02, -7.6352e-01,\n",
            "        -2.2014e-01, -3.4854e-01, -3.9431e-01,  2.0112e-01, -1.5914e-01,\n",
            "         2.5501e-01,  8.3825e-02,  3.9934e-01, -1.5560e-01,  3.5918e-01,\n",
            "         7.4342e-03,  3.0169e-01,  5.8277e-01, -1.9058e-01, -1.3372e-01,\n",
            "         4.9945e-01,  3.0941e-01,  7.0709e-02, -1.4815e-01, -2.9820e-01,\n",
            "         2.4467e-01,  5.4608e-02,  8.3987e-01,  1.7251e-01,  2.9107e-01,\n",
            "        -5.9238e-02, -5.5724e-02,  8.0509e-02, -3.4778e-02, -2.8192e-01,\n",
            "         2.6538e-02, -4.7658e-01,  1.8095e-01,  1.1894e-01, -4.5470e-01,\n",
            "        -4.1621e-01, -5.0050e-01,  1.6673e-01, -3.1977e-01,  3.1642e-02,\n",
            "        -1.1970e-01, -7.2777e-02, -1.6393e-01, -2.7184e-01,  6.3224e-01,\n",
            "         6.0766e-01,  8.9869e-02, -2.0391e-01,  3.1543e-01,  6.8900e-01,\n",
            "        -5.0795e-02, -1.1631e-01, -4.1368e-01, -7.6065e-02, -4.7199e-01,\n",
            "         5.0922e-01, -3.8626e-01, -1.0105e-01,  8.9878e-02,  3.6628e-02,\n",
            "        -4.8234e-01, -3.8330e-01, -3.2217e-01, -9.3357e-02,  4.2320e-01,\n",
            "        -5.6999e-02,  1.7497e-03,  2.5260e-02,  3.0821e-01, -7.1076e-01,\n",
            "         3.0526e-01, -1.7124e-01,  1.4790e-01,  2.0943e-01,  1.0410e-01,\n",
            "         9.6819e-02, -3.3101e-01,  2.6400e-01, -5.1797e-02,  5.3497e-01,\n",
            "        -3.7709e-02, -5.9170e-02, -1.4883e-01, -3.4116e-01, -3.5829e-01,\n",
            "         7.1496e-02,  7.7685e-02, -3.4171e-01, -7.2974e-02,  3.4779e-01,\n",
            "         9.9670e-02, -7.7020e-02,  4.0390e-01,  3.4053e-01, -6.0589e-01,\n",
            "         1.3859e-01, -2.2890e-01,  7.2413e-02,  6.8891e-02, -9.6461e-01,\n",
            "         1.6684e-01,  4.5503e-01,  1.6789e-01, -6.7466e-02, -4.4182e-01,\n",
            "         1.5199e-01, -3.2789e-01, -1.8644e-01, -4.5516e-02,  1.7125e-01,\n",
            "        -1.8054e-01, -1.5432e-01, -3.3902e-01, -2.1456e-01,  3.1395e-01,\n",
            "         1.4577e-01,  3.9038e-01,  4.1443e-01, -1.4904e-01,  3.3956e-01,\n",
            "         6.9886e-02,  9.8977e-02,  1.6414e-01,  6.1577e-02,  1.8534e-01,\n",
            "        -1.2991e-01, -6.0897e-01, -1.9754e-01, -5.6935e-01, -5.3945e-01,\n",
            "         1.0195e-04, -1.9605e+00,  1.1627e-01, -3.0725e-02,  5.8940e-01,\n",
            "        -2.7687e-01, -5.5361e-01,  1.1441e-01,  3.9764e-02,  2.0936e-01,\n",
            "        -1.6627e-03,  2.1245e-01,  1.5944e-01,  3.3641e-01,  8.6885e-03,\n",
            "        -6.4288e-02, -6.6972e-02,  5.7596e-01,  3.1226e-02,  2.2383e-01,\n",
            "         4.2155e-01,  5.2205e-01, -5.4691e-01, -1.4703e-01,  5.3262e-02])\n",
            "0.7613170295953751\n"
          ],
          "name": "stdout"
        }
      ]
    },
    {
      "cell_type": "code",
      "metadata": {
        "id": "ZNruKwUTUBZp",
        "colab_type": "code",
        "colab": {
          "base_uri": "https://localhost:8080/",
          "height": 281
        },
        "outputId": "5af4ebce-c991-4589-8870-8f08d9080780"
      },
      "source": [
        "plt.plot(epoch_val_log, loss_val_cnn_log, label='cnn validation curve')\n",
        "plt.plot(epoch_val_log, loss_val_linear_log, label='linear validation curve')\n",
        "plt.title('Model comparison of validation')\n",
        "plt.legend()\n",
        "plt.show()"
      ],
      "execution_count": null,
      "outputs": [
        {
          "output_type": "display_data",
          "data": {
            "image/png": "[encoded data removed]",
            "text/plain": [
              "<Figure size 432x288 with 1 Axes>"
            ]
          },
          "metadata": {
            "tags": [],
            "needs_background": "light"
          }
        }
      ]
    },
    {
      "cell_type": "code",
      "metadata": {
        "id": "dg3QDawn5Z6k",
        "colab_type": "code",
        "colab": {
          "base_uri": "https://localhost:8080/",
          "height": 385
        },
        "outputId": "96cf9238-a384-4f20-b3ed-d3885827f1d8"
      },
      "source": [
        "from sklearn.decomposition import PCA\n",
        "\n",
        "vocabulary = [verb for verb in action_verbs]\n",
        "vocabulary_embeddings = np.array([np.sum(embedding, axis=0) for embedding in get_embedding(vocabulary, True, 4)])\n",
        "print(vocabulary_embeddings.shape)\n",
        "pca = PCA(n_components=2)\n",
        "principalComponents = pca.fit_transform(vocabulary_embeddings)\n",
        "\n",
        "principalDf = pd.DataFrame(data = principalComponents\n",
        "             , columns = ['x', 'y'])\n",
        "principalDf.head\n",
        "import seaborn as sns\n",
        "plt.figure(figsize=(8,5))\n",
        "p1 = sns.scatterplot(\n",
        "    x=\"x\", y=\"y\",\n",
        "    palette=sns.color_palette(\"hls\", 10),\n",
        "    data=principalDf\n",
        ")\n",
        "\n",
        "for line in range(0,principalDf.shape[0], 6):\n",
        "     p1.text(principalDf.x[line]+0.2, principalDf.y[line],\n",
        "             vocabulary[line], horizontalalignment='left',\n",
        "             size='medium', color='black', weight='semibold')"
      ],
      "execution_count": null,
      "outputs": [
        {
          "output_type": "stream",
          "text": [
            "(184, 768)\n"
          ],
          "name": "stdout"
        },
        {
          "output_type": "stream",
          "text": [
            "/usr/local/lib/python3.6/dist-packages/statsmodels/tools/_testing.py:19: FutureWarning: pandas.util.testing is deprecated. Use the functions in the public API at pandas.testing instead.\n",
            "  import pandas.util.testing as tm\n"
          ],
          "name": "stderr"
        },
        {
          "output_type": "display_data",
          "data": {
            "image/png": "[encoded data removed]",
            "text/plain": [
              "<Figure size 576x360 with 1 Axes>"
            ]
          },
          "metadata": {
            "tags": [],
            "needs_background": "light"
          }
        }
      ]
    },
    {
      "cell_type": "code",
      "metadata": {
        "id": "QjHgj4ah9B0q",
        "colab_type": "code",
        "colab": {}
      },
      "source": [
        "class SingleFeedforwardNN(nn.Module):\n",
        "  def __init__(self, input_size, output_size, hidden_sizes):\n",
        "    super(SingleFeedforwardNN, self).__init__()\n",
        "    self.input_layer = nn.Linear(input_size, hidden_sizes[0])\n",
        "    self.hidden_layer1 = nn.Linear(hidden_sizes[0], hidden_sizes[1])\n",
        "    \n",
        "    self.hidden_layer2 = nn.Linear(hidden_sizes[1], hidden_sizes[2])\n",
        "    # for i in range(1, len(hidden_sizes)):\n",
        "    #   self.hidden_layer.append(nn.Linear(hidden_sizes[i-1], hidden_sizes[i])) \n",
        "    self.output_layer = nn.Linear(hidden_sizes[-1], output_size)\n",
        "    self.loss = nn.CosineSimilarity(dim=1, eps=1e-6)\n",
        "\n",
        "  def forward(self, x):\n",
        "    x = F.relu(self.input_layer(x))\n",
        "    \n",
        "    x = F.relu(self.hidden_layer1(x))\n",
        "    x = F.relu(self.hidden_layer2(x))\n",
        "    x = F.relu(self.output_layer(x))\n",
        "    return x"
      ],
      "execution_count": null,
      "outputs": []
    },
    {
      "cell_type": "code",
      "metadata": {
        "id": "nySRd-pA-GZI",
        "colab_type": "code",
        "colab": {
          "base_uri": "https://localhost:8080/",
          "height": 221
        },
        "outputId": "4ff379b0-56fe-4dce-8a2f-968a594904ac"
      },
      "source": [
        "linear_encoder = SingleFeedforwardNN(768, 768, [1536, 1024, 800])\n",
        "print(pms.summary(linear_encoder, torch.zeros((1, 768))))"
      ],
      "execution_count": null,
      "outputs": [
        {
          "output_type": "stream",
          "text": [
            "-----------------------------------------------------------------------\n",
            "      Layer (type)        Output Shape         Param #     Tr. Param #\n",
            "=======================================================================\n",
            "          Linear-1           [1, 1536]       1,181,184       1,181,184\n",
            "          Linear-2           [1, 1024]       1,573,888       1,573,888\n",
            "          Linear-3            [1, 800]         820,000         820,000\n",
            "          Linear-4            [1, 768]         615,168         615,168\n",
            "=======================================================================\n",
            "Total params: 4,190,240\n",
            "Trainable params: 4,190,240\n",
            "Non-trainable params: 0\n",
            "-----------------------------------------------------------------------\n"
          ],
          "name": "stdout"
        }
      ]
    },
    {
      "cell_type": "code",
      "metadata": {
        "id": "lhl5FoUnEqQ4",
        "colab_type": "code",
        "colab": {
          "base_uri": "https://localhost:8080/",
          "height": 295
        },
        "outputId": "9fd40607-1510-423c-a037-623961eff1ec"
      },
      "source": [
        "number_component = [2, 10, 50, 300, 768]\n",
        "\n",
        "correlation_complex = [0.33673, 0.36571, 0.42437, 0.47548, 0.48134]\n",
        "correlation_different = [0.34269, 0.36217, 0.37896, 0.40508, 0.41902]\n",
        "\n",
        "\n",
        "plt.title('Cosine similarity against number of components')\n",
        "plt.xlabel('Number of components to keep in canonical correaltion analysis')\n",
        "plt.ylabel('Cosine similarity')\n",
        "plt.plot(number_component, correlation_complex, label=\"Same FCNN for the input\")\n",
        "plt.plot(number_component, correlation_different, label=\"Different FCNN for the input\")\n",
        "plt.legend()\n",
        "plt.show()"
      ],
      "execution_count": null,
      "outputs": [
        {
          "output_type": "display_data",
          "data": {
            "image/png": "[encoded data removed]",
            "text/plain": [
              "<Figure size 432x288 with 1 Axes>"
            ]
          },
          "metadata": {
            "tags": [],
            "needs_background": "light"
          }
        }
      ]
    },
    {
      "cell_type": "code",
      "metadata": {
        "id": "kjRNQrEx6h2l",
        "colab_type": "code",
        "colab": {
          "base_uri": "https://localhost:8080/",
          "height": 295
        },
        "outputId": "e64b524d-81d3-4e62-c1bb-54f13bd7575f"
      },
      "source": [
        "plt.title('Cosine similarity loss against number of iterations')\n",
        "plt.xlabel('Number of iterations')\n",
        "plt.ylabel('Cosine similarity loss')\n",
        "plt.plot(epoch_val_log, loss_val_linear_log, label=\"Without attention\")\n",
        "plt.plot(epoch_val_log, loss_val_linear_large_log, label=\"With attention mechanism\")\n",
        "plt.legend()\n",
        "plt.show()"
      ],
      "execution_count": null,
      "outputs": [
        {
          "output_type": "display_data",
          "data": {
            "image/png": "[encoded data removed]",
            "text/plain": [
              "<Figure size 432x288 with 1 Axes>"
            ]
          },
          "metadata": {
            "tags": [],
            "needs_background": "light"
          }
        }
      ]
    }
  ]
}